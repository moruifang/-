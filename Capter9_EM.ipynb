{
 "metadata": {
  "language_info": {
   "codemirror_mode": {
    "name": "ipython",
    "version": 3
   },
   "file_extension": ".py",
   "mimetype": "text/x-python",
   "name": "python",
   "nbconvert_exporter": "python",
   "pygments_lexer": "ipython3",
   "version": "3.7.7-final"
  },
  "orig_nbformat": 2,
  "kernelspec": {
   "name": "python3",
   "display_name": "Python 3.7.7 64-bit ('data_analy': conda)",
   "metadata": {
    "interpreter": {
     "hash": "3ddee81a1b27f05db421b9f5cb6fc46ca6f9935fcf31d769e2300ba44e2b6654"
    }
   }
  }
 },
 "nbformat": 4,
 "nbformat_minor": 2,
 "cells": [
  {
   "cell_type": "markdown",
   "metadata": {},
   "source": [
    "# Capter9 EM算法\n",
    "## EM模型"
   ]
  },
  {
   "cell_type": "code",
   "execution_count": 1,
   "metadata": {},
   "outputs": [],
   "source": [
    "import numpy as np\n",
    "\n",
    "class EM_Model():\n",
    "    def __init__(self, prob_type = 'Bernoulli'):\n",
    "        self.prob_type = prob_type\n",
    "\n",
    "    def bnl_prob(self, train_x, params):\n",
    "        T_num = np.sum(train_x == 1, axis = 1)\n",
    "        F_num = np.sum(train_x == 0, axis = 1)\n",
    "        hide_prob = []\n",
    "        for p in params:\n",
    "            hide_prob.append(p['alph'] * np.power(p['prob'], T_num) * np.power(1 - p['prob'], F_num))\n",
    "        hide_sum = np.sum(hide_prob, axis = 0)\n",
    "        hide_prob = hide_prob/hide_sum\n",
    "        T_p = np.sum(T_num * hide_prob, axis = 1)\n",
    "        F_p = np.sum(F_num * hide_prob, axis = 1)\n",
    "        new_params = []\n",
    "        for i in range(len(T_p)):\n",
    "            new_params.append({})\n",
    "            new_params[i]['alph'] = np.mean(hide_prob[i])\n",
    "            new_params[i]['prob'] = (T_p[i]/(T_p[i] + F_p[i]))\n",
    "        return np.array(new_params)\n",
    "\n",
    "    def gaussian_prob(self, train_x, params):\n",
    "        hide_prob = []\n",
    "        def gauss_func(x, param):\n",
    "            a = param['alph']\n",
    "            s = param['scale']\n",
    "            l = param['loc']\n",
    "            return a/s * np.exp(-1*np.power((x - l),2)/(2*np.power(s, 2)))\n",
    "        for p in params:\n",
    "            hide_prob.append(gauss_func(train_x, p))\n",
    "        hide_sum = np.sum(hide_prob, axis = 0)\n",
    "        hide_prob = hide_prob/hide_sum\n",
    "        new_params = []\n",
    "        for i in range(len(params)):\n",
    "            new_params.append({})\n",
    "            new_params[i]['alph'] = np.mean(hide_prob[i])\n",
    "            new_params[i]['loc'] = np.dot(hide_prob[i].T,train_x)/np.sum(hide_prob[i])\n",
    "            new_params[i]['scale'] = np.sqrt(np.dot(hide_prob[i].T, np.power(train_x - new_params[i]['loc'], 2))/np.sum(hide_prob[i]))\n",
    "        return new_params\n",
    "\n",
    "    def fit(self, init_val, train_x, epoch = 10, eps = 0.000001):\n",
    "        params = init_val\n",
    "        for i in range(epoch):\n",
    "            if self.prob_type == 'Bernoulli':\n",
    "                new_params = self.bnl_prob(train_x, params)\n",
    "            elif self.prob_type == 'Gaussian':\n",
    "                new_params = self.gaussian_prob(train_x, params)\n",
    "            max_diff = 0\n",
    "            for j in range(len(new_params)):\n",
    "                for k in new_params[j]:\n",
    "                    diff = np.abs(new_params[j][k] - params[j][k])\n",
    "                    if diff > max_diff:\n",
    "                        max_diff = diff\n",
    "            if max_diff < eps:\n",
    "                break\n",
    "            else:\n",
    "                params = new_params\n",
    "            print(params)\n",
    "        return"
   ]
  },
  {
   "cell_type": "markdown",
   "metadata": {},
   "source": [
    "## 算法测试\n",
    "### 混合伯努利分布测试\n",
    "初始值说明：alph 选择第i个模型概率的初始值，prob 为1概率的初始值"
   ]
  },
  {
   "cell_type": "code",
   "execution_count": 6,
   "metadata": {
    "tags": []
   },
   "outputs": [
    {
     "output_type": "stream",
     "name": "stdout",
     "text": "[[0 0 0 ... 0 0 0]\n [1 0 0 ... 0 0 0]\n [0 1 0 ... 0 0 1]\n ...\n [0 0 0 ... 1 0 1]\n [0 0 1 ... 1 0 1]\n [0 1 1 ... 0 0 0]]\n[{'alph': 0.870817945092795, 'prob': 0.3146831852005208}\n {'alph': 0.12918205490720497, 'prob': 0.6167128659290555}]\n[{'alph': 0.8299463760280815, 'prob': 0.3034571456070492}\n {'alph': 0.17005362397191853, 'prob': 0.5989101516614664}]\n[{'alph': 0.8283786178324937, 'prob': 0.30315241729475223}\n {'alph': 0.17162138216750628, 'prob': 0.5976820502976621}]\n[{'alph': 0.8282791458887997, 'prob': 0.303133855480086}\n {'alph': 0.17172085411120036, 'prob': 0.5976009706224854}]\n[{'alph': 0.8282726992570061, 'prob': 0.3031326545695716}\n {'alph': 0.17172730074299386, 'prob': 0.5975957085606616}]\n"
    }
   ],
   "source": [
    "train_x = []\n",
    "for i in range(300):\n",
    "    if np.random.rand() > 0.2:\n",
    "        train_x.append(np.where(np.random.rand(100) > 0.7, 1, 0))\n",
    "    else:\n",
    "        train_x.append(np.where(np.random.rand(100) > 0.4, 1, 0))\n",
    "train_x = np.array(train_x)\n",
    "model = EM_Model()\n",
    "model.fit([{'alph' : 0.7, 'prob' : 0.4}, {'alph':0.3, 'prob' : 0.7}], train_x, 20)"
   ]
  },
  {
   "cell_type": "markdown",
   "metadata": {},
   "source": [
    "### 混合高斯分布测试\n",
    "初始值说明：alph 选择第i个模型概率的初始值，loc 期望，scale 方差"
   ]
  },
  {
   "cell_type": "code",
   "execution_count": 7,
   "metadata": {
    "tags": []
   },
   "outputs": [
    {
     "output_type": "stream",
     "name": "stdout",
     "text": "[{'alph': 0.40466593248492233, 'loc': 7.969481524597407, 'scale': 13.825940851132833}, {'alph': 0.5953340675150778, 'loc': 33.49811919467401, 'scale': 23.218988230941964}]\n[{'alph': 0.4185789663208641, 'loc': 4.122510902638575, 'scale': 6.760269176893133}, {'alph': 0.5814210336791359, 'loc': 36.87852972722482, 'scale': 21.750490750804683}]\n[{'alph': 0.5007956870861883, 'loc': 2.9803043521910344, 'scale': 1.074311148666671}, {'alph': 0.49920431291381173, 'loc': 43.41914743193235, 'scale': 17.09662181788495}]\n[{'alph': 0.5595145463194462, 'loc': 2.964457364267405, 'scale': 1.0172982274202018}, {'alph': 0.44048545368055375, 'loc': 48.82997163667947, 'scale': 9.075106954688277}]\n[{'alph': 0.5666563540849847, 'loc': 2.9847709532786197, 'scale': 1.055382637985247}, {'alph': 0.4333436459150153, 'loc': 49.559304729925366, 'scale': 7.129460945197463}]\n[{'alph': 0.5666666614776379, 'loc': 2.9848390743883337, 'scale': 1.055497217845223}, {'alph': 0.4333333385223621, 'loc': 49.56032348386422, 'scale': 7.126484373292945}]\n"
    }
   ],
   "source": [
    "train_x = []\n",
    "for i in range(300):\n",
    "    if np.random.rand() > 0.4:\n",
    "        train_x.append(np.random.normal(3, 1))\n",
    "    else:\n",
    "        train_x.append(np.random.normal(50, 7))\n",
    "train_x = np.array(train_x)\n",
    "\n",
    "model = EM_Model(prob_type='Gaussian')\n",
    "model.fit([{'alph': 0.6, 'loc':5, 'scale':9}, {'alph': 0.4, 'loc':6, 'scale':10}], train_x, 20)"
   ]
  },
  {
   "cell_type": "code",
   "execution_count": null,
   "metadata": {},
   "outputs": [],
   "source": []
  }
 ]
}