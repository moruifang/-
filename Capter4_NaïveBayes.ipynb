{
 "cells": [
  {
   "cell_type": "markdown",
   "metadata": {},
   "source": [
    "# Capter4 朴素贝叶斯\n",
    "## 贝叶斯模型"
   ]
  },
  {
   "cell_type": "code",
   "execution_count": 1,
   "metadata": {
    "tags": []
   },
   "outputs": [],
   "source": [
    "import pandas as pd\n",
    "import numpy as np\n",
    "class NaiveBayes():\n",
    "    def fit(self, x_df, y):\n",
    "        self.fea_names = list(x_df.columns)\n",
    "        df = x_df.copy()\n",
    "        df['labels'] = y\n",
    "        self.total = df.shape[0]\n",
    "        self.y_num_df = pd.DataFrame(df.groupby('labels')['labels'].count())\n",
    "        self.y_num_df.columns = ['y_num']\n",
    "        self.y_kind = self.y_num_df.shape[0]\n",
    "        self.num_dict = {}\n",
    "        self.x_kind_dict = {}\n",
    "        for col in self.fea_names:\n",
    "            x_num_df = pd.DataFrame(df.groupby([col, 'labels'])[col].count())\n",
    "            x_num_df.columns=['x_num']\n",
    "            self.num_dict[col] = x_num_df.join(self.y_num_df, how='outer')\n",
    "            self.x_kind_dict[col] = df[col].unique().shape[0]\n",
    "\n",
    "    def maxlikelihood(self, x):\n",
    "        p_df = self.y_num_df.div(self.total)\n",
    "        p_df.columns = ['y_p']\n",
    "        for col in self.fea_names:\n",
    "            num_df = pd.DataFrame(self.num_dict[col].loc[x[col],:])\n",
    "            p_df[col] = num_df['x_num']/num_df['y_num']\n",
    "        return p_df.fillna(0).prod(axis=1).idxmax()\n",
    "    \n",
    "    def maxlikelihood_predict(self, x_df):\n",
    "        predict = x_df.apply(self.maxlikelihood, axis=1)\n",
    "        return predict.values\n",
    "\n",
    "    def bayes(self, x, lr):\n",
    "        p_df = self.y_num_df.add(lr).div(self.total + lr * self.y_kind)\n",
    "        p_df.columns = ['y_p']\n",
    "        for col in self.fea_names:\n",
    "            if x[col] not in self.num_dict[col].index:\n",
    "                self.num_dict[col].loc[x[col],:] = 0\n",
    "            num_df = pd.DataFrame(self.num_dict[col].loc[x[col],:])\n",
    "            p_df[col] = num_df['x_num'].add(lr).div(num_df['y_num'].add(lr * self.x_kind_dict[col]))\n",
    "        return p_df.fillna(0).prod(axis=1).idxmax()\n",
    "\n",
    "    def bayes_predict(self, x_df, lr):\n",
    "        predict = x_df.apply(self.bayes, axis=1, args=(lr,))\n",
    "        return predict.values\n",
    "\n",
    "    def get_accuracy(self, gt_y, pre_y):\n",
    "        diff = np.subtract(gt_y, pre_y)\n",
    "        err = diff[diff!=0].shape[0]\n",
    "        return 1 - err/gt_y.shape[0]"
   ]
  },
  {
   "cell_type": "markdown",
   "metadata": {},
   "source": [
    "## 模型测试\n",
    "### 准备数据"
   ]
  },
  {
   "cell_type": "code",
   "execution_count": 6,
   "metadata": {
    "tags": []
   },
   "outputs": [
    {
     "output_type": "display_data",
     "data": {
      "text/plain": "Canvas(toolbar=Toolbar(toolitems=[('Home', 'Reset original view', 'home', 'home'), ('Back', 'Back to previous …",
      "application/vnd.jupyter.widget-view+json": {
       "version_major": 2,
       "version_minor": 0,
       "model_id": "e9174c51f95549c388f982888e072eaf"
      }
     },
     "metadata": {}
    },
    {
     "output_type": "execute_result",
     "data": {
      "text/plain": "<seaborn.axisgrid.PairGrid at 0x12b4b6650>"
     },
     "metadata": {},
     "execution_count": 6
    }
   ],
   "source": [
    "%matplotlib widget\n",
    "from sklearn import datasets\n",
    "import matplotlib.pyplot as plt\n",
    "import seaborn as sns\n",
    "\n",
    "data = datasets.load_iris()\n",
    "x_data = data.data\n",
    "y_data = data.target\n",
    "x_names = data.feature_names\n",
    "y_names = data.target_names\n",
    "\n",
    "data_np = np.column_stack((x_data, y_data))\n",
    "np.random.shuffle(data_np)\n",
    "data_cols = list(x_names.copy())\n",
    "data_cols.append('labels')\n",
    "df = pd.DataFrame(data_np, columns=data_cols)\n",
    "for col in x_names:\n",
    "    df[col] = pd.cut(df[col], 5, labels=range(5))\n",
    "\n",
    "train_num = 120\n",
    "train_x = df.iloc[:train_num, :4]\n",
    "train_y = df.iloc[:train_num, 4:].values.reshape([train_num,])\n",
    "test_x = df.iloc[train_num:, :4]\n",
    "test_y = df.iloc[train_num:, 4:].values.reshape([df.shape[0] - train_num,])\n",
    "sns.pairplot(x_vars = x_names, y_vars = x_names, hue = 'labels', data = df)"
   ]
  },
  {
   "cell_type": "markdown",
   "metadata": {},
   "source": [
    "### 最大似然估计"
   ]
  },
  {
   "cell_type": "code",
   "execution_count": 7,
   "metadata": {
    "tags": []
   },
   "outputs": [
    {
     "output_type": "stream",
     "name": "stdout",
     "text": "accuracy: 0.93\n"
    }
   ],
   "source": [
    "model = NaiveBayes()\n",
    "model.fit(train_x, train_y)\n",
    "pre_y = model.maxlikelihood_predict(test_x)\n",
    "print('accuracy: %.2f' % model.get_accuracy(test_y, pre_y))\n"
   ]
  },
  {
   "cell_type": "markdown",
   "metadata": {},
   "source": [
    "### 贝叶斯估计"
   ]
  },
  {
   "cell_type": "code",
   "execution_count": 8,
   "metadata": {
    "tags": []
   },
   "outputs": [
    {
     "output_type": "stream",
     "name": "stdout",
     "text": "accuracy: 0.93\n"
    }
   ],
   "source": [
    "model = NaiveBayes()\n",
    "model.fit(train_x, train_y)\n",
    "pre_y = model.bayes_predict(test_x, 1)\n",
    "print('accuracy: %.2f' % model.get_accuracy(test_y, pre_y))"
   ]
  },
  {
   "cell_type": "code",
   "execution_count": null,
   "metadata": {},
   "outputs": [],
   "source": []
  }
 ],
 "metadata": {
  "language_info": {
   "codemirror_mode": {
    "name": "ipython",
    "version": 3
   },
   "file_extension": ".py",
   "mimetype": "text/x-python",
   "name": "python",
   "nbconvert_exporter": "python",
   "pygments_lexer": "ipython3",
   "version": "3.7.7-final"
  },
  "orig_nbformat": 2,
  "kernelspec": {
   "name": "python3",
   "display_name": "Python 3",
   "language": "python"
  }
 },
 "nbformat": 4,
 "nbformat_minor": 2
}