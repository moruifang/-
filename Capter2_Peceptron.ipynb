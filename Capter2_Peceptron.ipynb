{
 "cells": [
  {
   "cell_type": "markdown",
   "metadata": {},
   "source": [
    "# Capter2 感知机模型\n",
    "## 感知机模型"
   ]
  },
  {
   "cell_type": "code",
   "execution_count": 8,
   "metadata": {},
   "outputs": [],
   "source": [
    "import numpy as np\n",
    "import random\n",
    "class Model1():\n",
    "    def fit(self, x, y, epoch, lr):\n",
    "        self.w = np.zeros(x.shape[1])\n",
    "        self.b = 0\n",
    "        self.loss_lst = []\n",
    "        for i in range(epoch):\n",
    "            arr = y * (np.dot(self.w, x.T) + self.b)\n",
    "            loss = -1 * np.where(arr < 0, arr, 0).sum()\n",
    "            self.loss_lst.append(loss)\n",
    "            x_err = x[arr<=0]\n",
    "            y_err = y[arr<=0]\n",
    "            idx = random.randint(0, x_err.shape[0]-1)\n",
    "            w_grad = x_err[idx] * y_err[idx] * -1\n",
    "            b_grad = y_err[idx] * -1\n",
    "            w_delt = w_grad * lr\n",
    "            b_delt = b_grad * lr\n",
    "            self.w = self.w - w_delt\n",
    "            self.b = self.b - b_delt\n",
    "    \n",
    "    def predict(self, x):\n",
    "        y = np.dot(self.w, x.T) + self.b\n",
    "        return np.where(y>=0, 1, -1)"
   ]
  },
  {
   "cell_type": "markdown",
   "metadata": {},
   "source": [
    "## 感知机对偶模型"
   ]
  },
  {
   "cell_type": "code",
   "execution_count": 9,
   "metadata": {
    "tags": []
   },
   "outputs": [],
   "source": [
    "class Model2():\n",
    "    def fit(self, x, y, epoch, lr):\n",
    "        self.a = np.zeros(x.shape[0])\n",
    "        self.loss_lst = []\n",
    "        gram_matrix = np.dot(x, x.T)\n",
    "        self.b = 0\n",
    "        for i in range(epoch):\n",
    "            tmp = self.a * y\n",
    "            for j in range(len(y)):\n",
    "                if y[j] * (np.dot(tmp,gram_matrix[:, j]) + self.b) <= 0:\n",
    "                    self.a[j] = self.a[j]+lr\n",
    "                    self.b = self.b+lr * y[j]\n",
    "                    break\n",
    "            loss = y * np.dot(tmp, gram_matrix) + self.b\n",
    "            loss = -1 * np.where(loss< 0, loss, 0).sum()\n",
    "            self.loss_lst.append(loss)\n",
    "        self.w = np.multiply(self.a * y, x.T).sum(axis=1)\n",
    "    \n",
    "    def predict(self, x):\n",
    "        res = np.dot(self.w, x.T) + self.b\n",
    "        return np.where(res>=0, 1, -1)"
   ]
  },
  {
   "cell_type": "markdown",
   "metadata": {},
   "source": [
    "## 公共评估函数"
   ]
  },
  {
   "cell_type": "code",
   "execution_count": 10,
   "metadata": {},
   "outputs": [],
   "source": [
    "def plot_decision_boundary(pre_func, fea, label, ax, title=''):\n",
    "    fea1_min, fea1_max = fea[:, 0].min() - 0.5, fea[:, 0].max() + 0.5\n",
    "    fea2_min, fea2_max = fea[:, 1].min() - 0.5, fea[:, 1].max() + 0.5\n",
    "    s = 0.05\n",
    "    g_fea1, g_fea2 = np.meshgrid(np.arange(fea1_min, fea1_max, s), np.arange(fea2_min, fea2_max, s))\n",
    "    pre_y = pre_func(np.c_[g_fea1.ravel(), g_fea2.ravel()])\n",
    "    pre_y = pre_y.reshape(g_fea1.shape)\n",
    "    ax.contourf(g_fea1, g_fea2, pre_y, cmap=plt.cm.Spectral)\n",
    "    ax.scatter(fea[:, 0], fea[:, 1], c = label, s = 20)\n",
    "    if len(title) > 0:\n",
    "        ax.set_title(title)\n",
    "\n",
    "def get_accuracy(gt_y, pre_y):\n",
    "    diff = np.subtract(gt_y, pre_y)\n",
    "    err = diff[diff!=0].shape[0]\n",
    "    return 1 - err/gt_y.shape[0]"
   ]
  },
  {
   "cell_type": "markdown",
   "metadata": {},
   "source": [
    "## 模型测试\n",
    "### 准备数据"
   ]
  },
  {
   "cell_type": "code",
   "execution_count": 11,
   "metadata": {
    "tags": []
   },
   "outputs": [],
   "source": [
    "%matplotlib widget\n",
    "from sklearn import datasets\n",
    "import matplotlib.pyplot as plt\n",
    "\n",
    "sample_num = 200\n",
    "train_num = 100\n",
    "inputs, labels = datasets.make_classification(n_samples=sample_num, n_features=2, n_classes=2, n_redundant=0)\n",
    "labels = np.where(labels == 0, -1, labels)\n",
    "train_x = inputs[:train_num]\n",
    "train_y = labels[:train_num]\n",
    "test_x = inputs[sample_num - train_num:]\n",
    "test_y = labels[sample_num - train_num:]"
   ]
  },
  {
   "cell_type": "markdown",
   "metadata": {},
   "source": [
    "### 感知机模型训练和评估"
   ]
  },
  {
   "cell_type": "code",
   "execution_count": 12,
   "metadata": {
    "tags": []
   },
   "outputs": [
    {
     "output_type": "stream",
     "name": "stdout",
     "text": [
      "accuracy: 0.90\n"
     ]
    },
    {
     "output_type": "display_data",
     "data": {
      "text/plain": "Canvas(toolbar=Toolbar(toolitems=[('Home', 'Reset original view', 'home', 'home'), ('Back', 'Back to previous …",
      "application/vnd.jupyter.widget-view+json": {
       "version_major": 2,
       "version_minor": 0,
       "model_id": "bcbd552087624dbdad375805703a921a"
      }
     },
     "metadata": {}
    }
   ],
   "source": [
    "epoch = 15\n",
    "lr = 0.05\n",
    "model = Model1()\n",
    "model.fit(train_x, train_y, epoch, lr)\n",
    "pre_y = model.predict(test_x)\n",
    "print('accuracy: %.2f' % get_accuracy(test_y, pre_y))\n",
    "fig, axs = plt.subplots(1, 2)\n",
    "axs[0].set_title('loss')\n",
    "axs[1].set_title('classes')\n",
    "axs[0].plot(model.loss_lst)\n",
    "plot_decision_boundary(model.predict, train_x, train_y, axs[1])"
   ]
  },
  {
   "cell_type": "markdown",
   "metadata": {},
   "source": [
    "### 感知机对偶模型训练和评估"
   ]
  },
  {
   "cell_type": "code",
   "execution_count": 13,
   "metadata": {
    "tags": []
   },
   "outputs": [
    {
     "output_type": "stream",
     "name": "stdout",
     "text": [
      "accuracy: 0.94\n"
     ]
    },
    {
     "output_type": "display_data",
     "data": {
      "text/plain": "Canvas(toolbar=Toolbar(toolitems=[('Home', 'Reset original view', 'home', 'home'), ('Back', 'Back to previous …",
      "application/vnd.jupyter.widget-view+json": {
       "version_major": 2,
       "version_minor": 0,
       "model_id": "d5436f0e4b80436d9422026349aff09d"
      }
     },
     "metadata": {}
    }
   ],
   "source": [
    "input_shape = train_x.shape\n",
    "epoch = 15\n",
    "lr = 0.05\n",
    "model = Model2()\n",
    "model.fit(train_x, train_y, epoch, lr)\n",
    "pre_y = model.predict(test_x)\n",
    "print('accuracy: %.2f' % get_accuracy(test_y, pre_y))\n",
    "fig, axs = plt.subplots(1, 2)\n",
    "axs[0].set_title('loss')\n",
    "axs[1].set_title('classes')\n",
    "axs[0].plot(model.loss_lst)\n",
    "plot_decision_boundary(model.predict, train_x, train_y, axs[1])"
   ]
  },
  {
   "cell_type": "code",
   "execution_count": null,
   "metadata": {},
   "outputs": [],
   "source": []
  }
 ],
 "metadata": {
  "language_info": {
   "codemirror_mode": {
    "name": "ipython",
    "version": 3
   },
   "file_extension": ".py",
   "mimetype": "text/x-python",
   "name": "python",
   "nbconvert_exporter": "python",
   "pygments_lexer": "ipython3",
   "version": "3.7.7-final"
  },
  "orig_nbformat": 2,
  "kernelspec": {
   "name": "python3",
   "display_name": "Python 3",
   "language": "python"
  }
 },
 "nbformat": 4,
 "nbformat_minor": 2
}