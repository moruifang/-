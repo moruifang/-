{
 "cells": [
  {
   "cell_type": "markdown",
   "metadata": {},
   "source": [
    "# Capter5 决策树模型 \n",
    "## ID3与C4.5决策树模型\n",
    "### 建立决策树"
   ]
  },
  {
   "cell_type": "code",
   "execution_count": 9,
   "metadata": {},
   "outputs": [],
   "source": [
    "import pandas as pd\n",
    "import numpy as np\n",
    "from graphviz import Digraph\n",
    "\n",
    "class DecisionTree():\n",
    "    def __init__(self, tree_type='ID3', eps = 0.01, cut_rate = 0.4):\n",
    "        self.tree_type = tree_type\n",
    "        self.eps = eps\n",
    "        self.cut_rate = cut_rate\n",
    "        self.id = 0\n",
    "\n",
    "    def get_info_gain(self, data_df):\n",
    "        label_p = data_df.groupby('label')['label'].count() / data_df.shape[0]\n",
    "        label_p_log = np.log2(label_p.values)\n",
    "        emp_prob = (label_p * label_p_log).sum() * -1\n",
    "        g_lst = []\n",
    "        for col in data_df.columns:\n",
    "            if col == 'label':\n",
    "                continue\n",
    "            tmp_df = data_df.loc[:, [col, 'label']]\n",
    "            label_count = tmp_df.groupby([col, 'label'])[col].count()\n",
    "            fea_count = label_count.sum(level = col)\n",
    "            fea_p = fea_count / data_df.shape[0]\n",
    "            fea_label_p = label_count/fea_count\n",
    "            fea_label_p_log = np.log2(fea_label_p)\n",
    "            con_prob = (fea_p * fea_label_p * fea_label_p_log).sum() * -1\n",
    "            g_lst.append(emp_prob - con_prob)\n",
    "        return {'emp_prob' : emp_prob, 'gain_lst' : g_lst}\n",
    "\n",
    "    def ID3_split(self, data_df):\n",
    "        res = self.get_info_gain(data_df)\n",
    "        g_lst = res['gain_lst']\n",
    "        max_g = max(g_lst)\n",
    "        if max_g < self.eps:\n",
    "            return \n",
    "        return data_df.columns[g_lst.index(max_g)]\n",
    "\n",
    "    def C45_split(self, data_df):\n",
    "        res = self.get_info_gain(data_df)\n",
    "        g_lst = res['gain_lst']\n",
    "        gr_lst = [x/res['emp_prob'] for x in g_lst]\n",
    "        max_r = max(gr_lst)\n",
    "        if max_r < self.eps:\n",
    "            return \n",
    "        return data_df.columns[gr_lst.index(max_r)]\n",
    "\n",
    "    def get_sub_data(self, data, split_point):\n",
    "        sub_data_dict = {}\n",
    "        fea_grped = data.groupby(split_point)\n",
    "        for name, grp in fea_grped:\n",
    "            sub_data_dict[name] = grp\n",
    "        return sub_data_dict\n",
    "    \n",
    "    def build_tree(self, data_df, level = 0, parent = None):\n",
    "        root = {'level' : level, 'parent' : parent, 'id' : self.id}\n",
    "        self.id = self.id + 1\n",
    "        if data_df[data_df['label'] == data_df.iloc[0, -1]].shape[0] == data_df.shape[0]:\n",
    "            label = data_df.iloc[0, -1]\n",
    "            root['final_label'] = label\n",
    "            root['info'] = {label : data_df.shape[0]}\n",
    "            return root\n",
    "        if self.tree_type == 'ID3':\n",
    "            split_point = self.ID3_split(data_df)\n",
    "        elif self.tree_type == 'C45':\n",
    "            split_point = self.C45_split(data_df)\n",
    "        else:\n",
    "            print('算法类型不支持')\n",
    "            return None\n",
    "        if not split_point:\n",
    "            label_count = data_df.groupby('label')['label'].count()\n",
    "            root['final_label'] = label_count.idxmax()\n",
    "            root['info'] = dict(label_count)\n",
    "            return root\n",
    "        root['info'] = split_point\n",
    "        root['children'] = {}\n",
    "        sub_data_dict = self.get_sub_data(data_df, split_point)\n",
    "        for k, sub_data in sub_data_dict.items():\n",
    "            if sub_data.shape[0] > 0:\n",
    "                root['children'][k] = self.build_tree(sub_data, level + 1, root)\n",
    "        return root\n",
    "\n",
    "    def get_leaf_nodes(self, node, nodes):\n",
    "        if 'final_label' in node:\n",
    "            nodes[node['id']] = node\n",
    "            return\n",
    "        for k, v in node['children'].items():\n",
    "            self.get_leaf_nodes(v, nodes)\n",
    "\n",
    "    def combine_leaf_node(self, nodes):\n",
    "        node_dict = {}\n",
    "        for k, v in nodes.items():\n",
    "            for kk, vv in v['info'].items():\n",
    "                if kk not in node_dict:\n",
    "                    node_dict[kk] = vv\n",
    "                else:\n",
    "                    node_dict[kk] = node_dict[kk] + vv\n",
    "        max_num = {'num' : 0}\n",
    "        for k, v in node_dict.items():\n",
    "            if v > max_num['num']:\n",
    "                max_num['num'] = v\n",
    "                max_num['label'] = k\n",
    "        return {'final_label' : max_num['label'], 'info' : node_dict}\n",
    "            \n",
    "    def get_cut_nodes(self, node, cut_nodes):\n",
    "        if 'final_label' in node:\n",
    "            return True\n",
    "        flag_dict = {}\n",
    "        for k, v in node['children'].items():\n",
    "            flag = self.get_cut_nodes(v, cut_nodes)\n",
    "            flag_dict[flag] = 1\n",
    "        if False not in flag_dict:\n",
    "            cut_nodes[node['id']] = node\n",
    "        return False\n",
    "\n",
    "    def cal_loss(self, leaf_nodes):\n",
    "        res = 0\n",
    "        for k, v in leaf_nodes.items():\n",
    "            sum = 0\n",
    "            num_lst = []\n",
    "            for kk, vv in v['info'].items():\n",
    "                sum = sum + vv\n",
    "                num_lst.append(vv)\n",
    "            prob_np = np.array([ float(x)/sum for x in num_lst ])\n",
    "            prob_np_log = np.log2(prob_np)\n",
    "            emp_entropy = np.sum(prob_np * prob_np_log) * -1\n",
    "            res = res + (sum * emp_entropy)\n",
    "        return self.cut_rate * len(leaf_nodes) + res\n",
    "\n",
    "    def cut_branch(self, root):\n",
    "        while True:\n",
    "            cut_nodes = {}\n",
    "            self.get_cut_nodes(root, cut_nodes)\n",
    "            cut_flag = False\n",
    "            for nid, node in cut_nodes.items():\n",
    "                if 'visit' in node:\n",
    "                    continue\n",
    "                leaf_nodes = {}\n",
    "                self.get_leaf_nodes(root, leaf_nodes)\n",
    "                src_loss = self.cal_loss(leaf_nodes)\n",
    "                new_node = self.combine_leaf_node(node['children'])\n",
    "                for k, v in node['children'].items():\n",
    "                    del leaf_nodes[v['id']]\n",
    "                leaf_nodes[-1] = new_node\n",
    "                dst_loss = self.cal_loss(leaf_nodes)\n",
    "                if dst_loss <= src_loss:\n",
    "                    del node['children']\n",
    "                    node['final_label'] = new_node['final_label']\n",
    "                    node['info'] = new_node['info']\n",
    "                    cut_flag = True\n",
    "                else:\n",
    "                    node['visit'] = True\n",
    "            if not cut_flag:\n",
    "                break\n",
    "        return root\n",
    "\n",
    "    def predict(self, x_df, node):\n",
    "        if 'final_label' in node:\n",
    "            return node['final_label']\n",
    "        fea_key = node['info'] \n",
    "        fea_val = node['children']\n",
    "    \n",
    "        if x_df[fea_key] not in fea_val:\n",
    "            leaf_nodes = {}\n",
    "            self.get_leaf_nodes(node, leaf_nodes)\n",
    "            new_nodes = self.combine_leaf_node(leaf_nodes)\n",
    "            return new_nodes['final_label']\n",
    "        else:\n",
    "            return self.predict(x_df, fea_val[x_df[fea_key]])\n",
    "\n",
    "    def format_dot(self, dot, node, edge_label = ''):\n",
    "        node_label = \"{}_{}_{}\".format(node['id'], node['level'], node['info'])\n",
    "        dot.node(str(node['id']), label=node_label)\n",
    "        if len(edge_label) != 0:\n",
    "            dot.edge(str(node['parent']['id']), str(node['id']), label = edge_label)\n",
    "        if 'final_label' in node:\n",
    "            return\n",
    "        for k, v in node['children'].items():\n",
    "            self.format_dot(dot, v, str(k))\n",
    "\n",
    "    def print_tree(self, root):\n",
    "        dot = Digraph(comment='Decision Tree')\n",
    "        self.format_dot(dot, root)\n",
    "        return dot"
   ]
  },
  {
   "cell_type": "markdown",
   "metadata": {},
   "source": [
    "### ID3模型"
   ]
  },
  {
   "cell_type": "code",
   "execution_count": 10,
   "metadata": {},
   "outputs": [],
   "source": [
    "class ID3Model():\n",
    "    def __init__(self, eps = 0.01, cut_rate = 0.4):\n",
    "        self.tree = DecisionTree('ID3', eps, cut_rate)\n",
    "\n",
    "    def fit(self, train_x, train_y):\n",
    "        df = train_x.copy()\n",
    "        df['label'] = train_y\n",
    "        self.root = self.tree.build_tree(df)\n",
    "        self.print_tree_before_cut = self.tree.print_tree(self.root)\n",
    "        self.tree.cut_branch(self.root)\n",
    "        self.print_tree_after_cut = self.tree.print_tree(self.root)\n",
    "\n",
    "    def predict(self, x_df):\n",
    "        y_pre = x_df.apply(self.tree.predict, axis=1, args=(self.root,))\n",
    "        return y_pre.values\n",
    "\n",
    "    def print_tree_before_cut(self):\n",
    "        return self.before_dot\n",
    "\n",
    "    def print_tree_after_cut(self):\n",
    "        return self.after_dot\n",
    "\n",
    "    def get_accuracy(self, gt_y, pre_y):\n",
    "        diff = np.subtract(gt_y, pre_y)\n",
    "        err = diff[diff!=0].shape[0]\n",
    "        return 1 - err/gt_y.shape[0]"
   ]
  },
  {
   "cell_type": "markdown",
   "metadata": {},
   "source": [
    "### C4.5模型"
   ]
  },
  {
   "cell_type": "code",
   "execution_count": 11,
   "metadata": {},
   "outputs": [],
   "source": [
    "class C45Model():\n",
    "    def __init__(self, eps = 0.01, cut_rate = 0.4):\n",
    "        self.tree = DecisionTree('C45', eps, cut_rate)\n",
    "\n",
    "    def fit(self, train_x, train_y):\n",
    "        df = train_x.copy()\n",
    "        df['label'] = train_y\n",
    "        self.root = self.tree.build_tree(df)\n",
    "        self.print_tree_before_cut = self.tree.print_tree(self.root)\n",
    "        self.tree.cut_branch(self.root)\n",
    "        self.print_tree_after_cut = self.tree.print_tree(self.root)\n",
    "\n",
    "    def predict(self, x_df):\n",
    "        y_pre = x_df.apply(self.tree.predict, axis=1, args=(self.root,))\n",
    "        return y_pre.values\n",
    "\n",
    "    def print_tree_before_cut(self):\n",
    "        return self.before_dot\n",
    "\n",
    "    def print_tree_after_cut(self):\n",
    "        return self.after_dot\n",
    "\n",
    "    def get_accuracy(self, gt_y, pre_y):\n",
    "        diff = np.subtract(gt_y, pre_y)\n",
    "        err = diff[diff!=0].shape[0]\n",
    "        return 1 - err/gt_y.shape[0]"
   ]
  },
  {
   "cell_type": "markdown",
   "metadata": {},
   "source": [
    "## 模型测试\n",
    "### 准备测试数据"
   ]
  },
  {
   "cell_type": "code",
   "execution_count": 12,
   "metadata": {
    "tags": []
   },
   "outputs": [],
   "source": [
    "%matplotlib widget\n",
    "from sklearn import datasets\n",
    "import matplotlib.pyplot as plt\n",
    "import seaborn as sns\n",
    "\n",
    "data = datasets.load_iris()\n",
    "x_data = data.data\n",
    "y_data = data.target\n",
    "x_names = data.feature_names\n",
    "y_names = data.target_names\n",
    "\n",
    "data_np = np.column_stack((x_data, y_data))\n",
    "np.random.shuffle(data_np)\n",
    "data_cols = list(x_names.copy())\n",
    "data_cols.append('labels')\n",
    "df = pd.DataFrame(data_np, columns=data_cols)\n",
    "for col in x_names:\n",
    "    df[col] = pd.cut(df[col], 5, labels=range(5))\n",
    "\n",
    "train_num = 120\n",
    "train_x = df.iloc[:train_num, :4]\n",
    "train_y = df.iloc[:train_num, 4:].values.reshape([train_num,])\n",
    "test_x = df.iloc[train_num:, :4]\n",
    "test_y = df.iloc[train_num:, 4:].values.reshape([df.shape[0] - train_num,])\n",
    "#sns.pairplot(x_vars = x_names, y_vars = x_names, hue = 'labels', data = df)\n"
   ]
  },
  {
   "cell_type": "markdown",
   "metadata": {},
   "source": [
    "### ID3模型测试"
   ]
  },
  {
   "cell_type": "code",
   "execution_count": 13,
   "metadata": {
    "tags": []
   },
   "outputs": [
    {
     "output_type": "stream",
     "name": "stdout",
     "text": "accuracy: 0.97\n"
    }
   ],
   "source": [
    "model = ID3Model()\n",
    "model.fit(train_x, train_y)\n",
    "pre_y = model.predict(test_x)\n",
    "print('accuracy: %.2f' % model.get_accuracy(test_y, pre_y))"
   ]
  },
  {
   "cell_type": "code",
   "execution_count": 14,
   "metadata": {},
   "outputs": [
    {
     "output_type": "execute_result",
     "data": {
      "text/plain": "<graphviz.dot.Digraph at 0x124e7bc10>",
      "image/svg+xml": "<?xml version=\"1.0\" encoding=\"UTF-8\" standalone=\"no\"?>\n<!DOCTYPE svg PUBLIC \"-//W3C//DTD SVG 1.1//EN\"\n \"http://www.w3.org/Graphics/SVG/1.1/DTD/svg11.dtd\">\n<!-- Generated by graphviz version 2.40.1 (20161225.0304)\n -->\n<!-- Title: %3 Pages: 1 -->\n<svg width=\"1733pt\" height=\"392pt\"\n viewBox=\"0.00 0.00 1732.89 392.00\" xmlns=\"http://www.w3.org/2000/svg\" xmlns:xlink=\"http://www.w3.org/1999/xlink\">\n<g id=\"graph0\" class=\"graph\" transform=\"scale(1 1) rotate(0) translate(4 388)\">\n<title>%3</title>\n<polygon fill=\"#ffffff\" stroke=\"transparent\" points=\"-4,4 -4,-388 1728.887,-388 1728.887,4 -4,4\"/>\n<!-- 0 -->\n<g id=\"node1\" class=\"node\">\n<title>0</title>\n<ellipse fill=\"none\" stroke=\"#000000\" cx=\"603.4948\" cy=\"-366\" rx=\"89.0842\" ry=\"18\"/>\n<text text-anchor=\"middle\" x=\"603.4948\" y=\"-362.3\" font-family=\"Times,serif\" font-size=\"14.00\" fill=\"#000000\">0_0_petal width (cm)</text>\n</g>\n<!-- 1 -->\n<g id=\"node2\" class=\"node\">\n<title>1</title>\n<ellipse fill=\"none\" stroke=\"#000000\" cx=\"157.4948\" cy=\"-279\" rx=\"63.0888\" ry=\"18\"/>\n<text text-anchor=\"middle\" x=\"157.4948\" y=\"-275.3\" font-family=\"Times,serif\" font-size=\"14.00\" fill=\"#000000\">1_1_{0.0: 38}</text>\n</g>\n<!-- 0&#45;&gt;1 -->\n<g id=\"edge1\" class=\"edge\">\n<title>0&#45;&gt;1</title>\n<path fill=\"none\" stroke=\"#000000\" d=\"M534.3053,-354.5689C459.0426,-341.824 335.3147,-319.9654 229.4948,-297 224.5074,-295.9176 219.3396,-294.7392 214.1668,-293.5205\"/>\n<polygon fill=\"#000000\" stroke=\"#000000\" points=\"214.7997,-290.0731 204.2589,-291.1417 213.1654,-296.8797 214.7997,-290.0731\"/>\n<text text-anchor=\"middle\" x=\"397.4948\" y=\"-318.8\" font-family=\"Times,serif\" font-size=\"14.00\" fill=\"#000000\">0</text>\n</g>\n<!-- 2 -->\n<g id=\"node3\" class=\"node\">\n<title>2</title>\n<ellipse fill=\"none\" stroke=\"#000000\" cx=\"328.4948\" cy=\"-279\" rx=\"90.1842\" ry=\"18\"/>\n<text text-anchor=\"middle\" x=\"328.4948\" y=\"-275.3\" font-family=\"Times,serif\" font-size=\"14.00\" fill=\"#000000\">2_1_sepal width (cm)</text>\n</g>\n<!-- 0&#45;&gt;2 -->\n<g id=\"edge2\" class=\"edge\">\n<title>0&#45;&gt;2</title>\n<path fill=\"none\" stroke=\"#000000\" d=\"M555.2788,-350.7462C508.2001,-335.8522 436.519,-313.1749 386.3819,-297.3134\"/>\n<polygon fill=\"#000000\" stroke=\"#000000\" points=\"387.2455,-293.9157 376.6555,-294.2363 385.134,-300.5896 387.2455,-293.9157\"/>\n<text text-anchor=\"middle\" x=\"486.4948\" y=\"-318.8\" font-family=\"Times,serif\" font-size=\"14.00\" fill=\"#000000\">1</text>\n</g>\n<!-- 6 -->\n<g id=\"node7\" class=\"node\">\n<title>6</title>\n<ellipse fill=\"none\" stroke=\"#000000\" cx=\"603.4948\" cy=\"-279\" rx=\"90.9839\" ry=\"18\"/>\n<text text-anchor=\"middle\" x=\"603.4948\" y=\"-275.3\" font-family=\"Times,serif\" font-size=\"14.00\" fill=\"#000000\">6_1_petal length (cm)</text>\n</g>\n<!-- 0&#45;&gt;6 -->\n<g id=\"edge6\" class=\"edge\">\n<title>0&#45;&gt;6</title>\n<path fill=\"none\" stroke=\"#000000\" d=\"M603.4948,-347.9735C603.4948,-336.1918 603.4948,-320.5607 603.4948,-307.1581\"/>\n<polygon fill=\"#000000\" stroke=\"#000000\" points=\"606.9949,-307.0033 603.4948,-297.0034 599.9949,-307.0034 606.9949,-307.0033\"/>\n<text text-anchor=\"middle\" x=\"607.4948\" y=\"-318.8\" font-family=\"Times,serif\" font-size=\"14.00\" fill=\"#000000\">2</text>\n</g>\n<!-- 15 -->\n<g id=\"node16\" class=\"node\">\n<title>15</title>\n<ellipse fill=\"none\" stroke=\"#000000\" cx=\"1089.4948\" cy=\"-279\" rx=\"96.6831\" ry=\"18\"/>\n<text text-anchor=\"middle\" x=\"1089.4948\" y=\"-275.3\" font-family=\"Times,serif\" font-size=\"14.00\" fill=\"#000000\">15_1_sepal length (cm)</text>\n</g>\n<!-- 0&#45;&gt;15 -->\n<g id=\"edge15\" class=\"edge\">\n<title>0&#45;&gt;15</title>\n<path fill=\"none\" stroke=\"#000000\" d=\"M670.3062,-354.0399C758.796,-338.1992 914.6934,-310.2916 1009.3975,-293.3384\"/>\n<polygon fill=\"#000000\" stroke=\"#000000\" points=\"1010.2731,-296.7374 1019.4998,-291.53 1009.0395,-289.8469 1010.2731,-296.7374\"/>\n<text text-anchor=\"middle\" x=\"880.4948\" y=\"-318.8\" font-family=\"Times,serif\" font-size=\"14.00\" fill=\"#000000\">3</text>\n</g>\n<!-- 27 -->\n<g id=\"node28\" class=\"node\">\n<title>27</title>\n<ellipse fill=\"none\" stroke=\"#000000\" cx=\"1271.4948\" cy=\"-279\" rx=\"67.6881\" ry=\"18\"/>\n<text text-anchor=\"middle\" x=\"1271.4948\" y=\"-275.3\" font-family=\"Times,serif\" font-size=\"14.00\" fill=\"#000000\">27_1_{2.0: 19}</text>\n</g>\n<!-- 0&#45;&gt;27 -->\n<g id=\"edge27\" class=\"edge\">\n<title>0&#45;&gt;27</title>\n<path fill=\"none\" stroke=\"#000000\" d=\"M686.7852,-359.3747C801.7737,-349.5281 1015.3763,-328.7153 1195.4948,-297 1201.1411,-296.0058 1206.9954,-294.849 1212.835,-293.6104\"/>\n<polygon fill=\"#000000\" stroke=\"#000000\" points=\"1213.5934,-297.0274 1222.6095,-291.4631 1212.0914,-290.1904 1213.5934,-297.0274\"/>\n<text text-anchor=\"middle\" x=\"1071.4948\" y=\"-318.8\" font-family=\"Times,serif\" font-size=\"14.00\" fill=\"#000000\">4</text>\n</g>\n<!-- 3 -->\n<g id=\"node4\" class=\"node\">\n<title>3</title>\n<ellipse fill=\"none\" stroke=\"#000000\" cx=\"58.4948\" cy=\"-192\" rx=\"58.4896\" ry=\"18\"/>\n<text text-anchor=\"middle\" x=\"58.4948\" y=\"-188.3\" font-family=\"Times,serif\" font-size=\"14.00\" fill=\"#000000\">3_2_{1.0: 4}</text>\n</g>\n<!-- 2&#45;&gt;3 -->\n<g id=\"edge3\" class=\"edge\">\n<title>2&#45;&gt;3</title>\n<path fill=\"none\" stroke=\"#000000\" d=\"M280.8457,-263.6464C232.5491,-248.0842 158.1132,-224.0993 108.8629,-208.2297\"/>\n<polygon fill=\"#000000\" stroke=\"#000000\" points=\"109.6507,-204.8064 99.0592,-205.0707 107.5038,-211.4691 109.6507,-204.8064\"/>\n<text text-anchor=\"middle\" x=\"214.4948\" y=\"-231.8\" font-family=\"Times,serif\" font-size=\"14.00\" fill=\"#000000\">0</text>\n</g>\n<!-- 4 -->\n<g id=\"node5\" class=\"node\">\n<title>4</title>\n<ellipse fill=\"none\" stroke=\"#000000\" cx=\"193.4948\" cy=\"-192\" rx=\"58.4896\" ry=\"18\"/>\n<text text-anchor=\"middle\" x=\"193.4948\" y=\"-188.3\" font-family=\"Times,serif\" font-size=\"14.00\" fill=\"#000000\">4_2_{1.0: 1}</text>\n</g>\n<!-- 2&#45;&gt;4 -->\n<g id=\"edge4\" class=\"edge\">\n<title>2&#45;&gt;4</title>\n<path fill=\"none\" stroke=\"#000000\" d=\"M301.5,-261.6033C280.2124,-247.8846 250.3956,-228.6694 227.4823,-213.9031\"/>\n<polygon fill=\"#000000\" stroke=\"#000000\" points=\"229.3725,-210.9574 219.0708,-208.4823 225.5806,-216.8414 229.3725,-210.9574\"/>\n<text text-anchor=\"middle\" x=\"273.4948\" y=\"-231.8\" font-family=\"Times,serif\" font-size=\"14.00\" fill=\"#000000\">1</text>\n</g>\n<!-- 5 -->\n<g id=\"node6\" class=\"node\">\n<title>5</title>\n<ellipse fill=\"none\" stroke=\"#000000\" cx=\"328.4948\" cy=\"-192\" rx=\"58.4896\" ry=\"18\"/>\n<text text-anchor=\"middle\" x=\"328.4948\" y=\"-188.3\" font-family=\"Times,serif\" font-size=\"14.00\" fill=\"#000000\">5_2_{0.0: 1}</text>\n</g>\n<!-- 2&#45;&gt;5 -->\n<g id=\"edge5\" class=\"edge\">\n<title>2&#45;&gt;5</title>\n<path fill=\"none\" stroke=\"#000000\" d=\"M328.4948,-260.9735C328.4948,-249.1918 328.4948,-233.5607 328.4948,-220.1581\"/>\n<polygon fill=\"#000000\" stroke=\"#000000\" points=\"331.9949,-220.0033 328.4948,-210.0034 324.9949,-220.0034 331.9949,-220.0033\"/>\n<text text-anchor=\"middle\" x=\"332.4948\" y=\"-231.8\" font-family=\"Times,serif\" font-size=\"14.00\" fill=\"#000000\">3</text>\n</g>\n<!-- 7 -->\n<g id=\"node8\" class=\"node\">\n<title>7</title>\n<ellipse fill=\"none\" stroke=\"#000000\" cx=\"463.4948\" cy=\"-192\" rx=\"58.4896\" ry=\"18\"/>\n<text text-anchor=\"middle\" x=\"463.4948\" y=\"-188.3\" font-family=\"Times,serif\" font-size=\"14.00\" fill=\"#000000\">7_2_{1.0: 1}</text>\n</g>\n<!-- 6&#45;&gt;7 -->\n<g id=\"edge7\" class=\"edge\">\n<title>6&#45;&gt;7</title>\n<path fill=\"none\" stroke=\"#000000\" d=\"M575.8353,-261.8116C553.6478,-248.0236 522.3696,-228.5865 498.4494,-213.7218\"/>\n<polygon fill=\"#000000\" stroke=\"#000000\" points=\"500.0173,-210.5754 489.6763,-208.2699 496.3226,-216.5209 500.0173,-210.5754\"/>\n<text text-anchor=\"middle\" x=\"546.4948\" y=\"-231.8\" font-family=\"Times,serif\" font-size=\"14.00\" fill=\"#000000\">1</text>\n</g>\n<!-- 8 -->\n<g id=\"node9\" class=\"node\">\n<title>8</title>\n<ellipse fill=\"none\" stroke=\"#000000\" cx=\"603.4948\" cy=\"-192\" rx=\"63.0888\" ry=\"18\"/>\n<text text-anchor=\"middle\" x=\"603.4948\" y=\"-188.3\" font-family=\"Times,serif\" font-size=\"14.00\" fill=\"#000000\">8_2_{1.0: 20}</text>\n</g>\n<!-- 6&#45;&gt;8 -->\n<g id=\"edge8\" class=\"edge\">\n<title>6&#45;&gt;8</title>\n<path fill=\"none\" stroke=\"#000000\" d=\"M603.4948,-260.9735C603.4948,-249.1918 603.4948,-233.5607 603.4948,-220.1581\"/>\n<polygon fill=\"#000000\" stroke=\"#000000\" points=\"606.9949,-220.0033 603.4948,-210.0034 599.9949,-220.0034 606.9949,-220.0033\"/>\n<text text-anchor=\"middle\" x=\"607.4948\" y=\"-231.8\" font-family=\"Times,serif\" font-size=\"14.00\" fill=\"#000000\">2</text>\n</g>\n<!-- 9 -->\n<g id=\"node10\" class=\"node\">\n<title>9</title>\n<ellipse fill=\"none\" stroke=\"#000000\" cx=\"774.4948\" cy=\"-192\" rx=\"90.1842\" ry=\"18\"/>\n<text text-anchor=\"middle\" x=\"774.4948\" y=\"-188.3\" font-family=\"Times,serif\" font-size=\"14.00\" fill=\"#000000\">9_2_sepal width (cm)</text>\n</g>\n<!-- 6&#45;&gt;9 -->\n<g id=\"edge9\" class=\"edge\">\n<title>6&#45;&gt;9</title>\n<path fill=\"none\" stroke=\"#000000\" d=\"M636.8713,-262.019C664.1472,-248.1418 702.8675,-228.442 732.2927,-213.4712\"/>\n<polygon fill=\"#000000\" stroke=\"#000000\" points=\"734.1678,-216.4443 741.4934,-208.7902 730.9935,-210.2053 734.1678,-216.4443\"/>\n<text text-anchor=\"middle\" x=\"703.4948\" y=\"-231.8\" font-family=\"Times,serif\" font-size=\"14.00\" fill=\"#000000\">3</text>\n</g>\n<!-- 10 -->\n<g id=\"node11\" class=\"node\">\n<title>10</title>\n<ellipse fill=\"none\" stroke=\"#000000\" cx=\"596.4948\" cy=\"-105\" rx=\"63.0888\" ry=\"18\"/>\n<text text-anchor=\"middle\" x=\"596.4948\" y=\"-101.3\" font-family=\"Times,serif\" font-size=\"14.00\" fill=\"#000000\">10_3_{2.0: 1}</text>\n</g>\n<!-- 9&#45;&gt;10 -->\n<g id=\"edge10\" class=\"edge\">\n<title>9&#45;&gt;10</title>\n<path fill=\"none\" stroke=\"#000000\" d=\"M740.1746,-175.2255C710.8774,-160.9061 668.6737,-140.2784 637.5831,-125.0825\"/>\n<polygon fill=\"#000000\" stroke=\"#000000\" points=\"638.8389,-121.8006 628.3176,-120.5539 635.765,-128.0896 638.8389,-121.8006\"/>\n<text text-anchor=\"middle\" x=\"700.4948\" y=\"-144.8\" font-family=\"Times,serif\" font-size=\"14.00\" fill=\"#000000\">0</text>\n</g>\n<!-- 11 -->\n<g id=\"node12\" class=\"node\">\n<title>11</title>\n<ellipse fill=\"none\" stroke=\"#000000\" cx=\"774.4948\" cy=\"-105\" rx=\"96.6831\" ry=\"18\"/>\n<text text-anchor=\"middle\" x=\"774.4948\" y=\"-101.3\" font-family=\"Times,serif\" font-size=\"14.00\" fill=\"#000000\">11_3_sepal length (cm)</text>\n</g>\n<!-- 9&#45;&gt;11 -->\n<g id=\"edge11\" class=\"edge\">\n<title>9&#45;&gt;11</title>\n<path fill=\"none\" stroke=\"#000000\" d=\"M774.4948,-173.9735C774.4948,-162.1918 774.4948,-146.5607 774.4948,-133.1581\"/>\n<polygon fill=\"#000000\" stroke=\"#000000\" points=\"777.9949,-133.0033 774.4948,-123.0034 770.9949,-133.0034 777.9949,-133.0033\"/>\n<text text-anchor=\"middle\" x=\"778.4948\" y=\"-144.8\" font-family=\"Times,serif\" font-size=\"14.00\" fill=\"#000000\">1</text>\n</g>\n<!-- 14 -->\n<g id=\"node15\" class=\"node\">\n<title>14</title>\n<ellipse fill=\"none\" stroke=\"#000000\" cx=\"952.4948\" cy=\"-105\" rx=\"63.0888\" ry=\"18\"/>\n<text text-anchor=\"middle\" x=\"952.4948\" y=\"-101.3\" font-family=\"Times,serif\" font-size=\"14.00\" fill=\"#000000\">14_3_{1.0: 4}</text>\n</g>\n<!-- 9&#45;&gt;14 -->\n<g id=\"edge14\" class=\"edge\">\n<title>9&#45;&gt;14</title>\n<path fill=\"none\" stroke=\"#000000\" d=\"M808.815,-175.2255C838.1122,-160.9061 880.316,-140.2784 911.4065,-125.0825\"/>\n<polygon fill=\"#000000\" stroke=\"#000000\" points=\"913.2246,-128.0896 920.672,-120.5539 910.1507,-121.8006 913.2246,-128.0896\"/>\n<text text-anchor=\"middle\" x=\"878.4948\" y=\"-144.8\" font-family=\"Times,serif\" font-size=\"14.00\" fill=\"#000000\">2</text>\n</g>\n<!-- 12 -->\n<g id=\"node13\" class=\"node\">\n<title>12</title>\n<ellipse fill=\"none\" stroke=\"#000000\" cx=\"729.4948\" cy=\"-18\" rx=\"88.2844\" ry=\"18\"/>\n<text text-anchor=\"middle\" x=\"729.4948\" y=\"-14.3\" font-family=\"Times,serif\" font-size=\"14.00\" fill=\"#000000\">12_4_{1.0: 3, 2.0: 1}</text>\n</g>\n<!-- 11&#45;&gt;12 -->\n<g id=\"edge12\" class=\"edge\">\n<title>11&#45;&gt;12</title>\n<path fill=\"none\" stroke=\"#000000\" d=\"M765.1708,-86.9735C758.8958,-74.8418 750.5096,-58.6287 743.4447,-44.9698\"/>\n<polygon fill=\"#000000\" stroke=\"#000000\" points=\"746.5099,-43.2776 738.8069,-36.0034 740.2924,-46.4935 746.5099,-43.2776\"/>\n<text text-anchor=\"middle\" x=\"759.4948\" y=\"-57.8\" font-family=\"Times,serif\" font-size=\"14.00\" fill=\"#000000\">2</text>\n</g>\n<!-- 13 -->\n<g id=\"node14\" class=\"node\">\n<title>13</title>\n<ellipse fill=\"none\" stroke=\"#000000\" cx=\"898.4948\" cy=\"-18\" rx=\"63.0888\" ry=\"18\"/>\n<text text-anchor=\"middle\" x=\"898.4948\" y=\"-14.3\" font-family=\"Times,serif\" font-size=\"14.00\" fill=\"#000000\">13_4_{1.0: 1}</text>\n</g>\n<!-- 11&#45;&gt;13 -->\n<g id=\"edge13\" class=\"edge\">\n<title>11&#45;&gt;13</title>\n<path fill=\"none\" stroke=\"#000000\" d=\"M799.5881,-87.3943C818.8695,-73.8661 845.6385,-55.0846 866.4659,-40.4719\"/>\n<polygon fill=\"#000000\" stroke=\"#000000\" points=\"868.5251,-43.3027 874.701,-34.694 864.5046,-37.5724 868.5251,-43.3027\"/>\n<text text-anchor=\"middle\" x=\"848.4948\" y=\"-57.8\" font-family=\"Times,serif\" font-size=\"14.00\" fill=\"#000000\">3</text>\n</g>\n<!-- 16 -->\n<g id=\"node17\" class=\"node\">\n<title>16</title>\n<ellipse fill=\"none\" stroke=\"#000000\" cx=\"945.4948\" cy=\"-192\" rx=\"63.0888\" ry=\"18\"/>\n<text text-anchor=\"middle\" x=\"945.4948\" y=\"-188.3\" font-family=\"Times,serif\" font-size=\"14.00\" fill=\"#000000\">16_2_{2.0: 1}</text>\n</g>\n<!-- 15&#45;&gt;16 -->\n<g id=\"edge16\" class=\"edge\">\n<title>15&#45;&gt;16</title>\n<path fill=\"none\" stroke=\"#000000\" d=\"M1060.7004,-261.6033C1037.8935,-247.8242 1005.9085,-228.5 981.4256,-213.7082\"/>\n<polygon fill=\"#000000\" stroke=\"#000000\" points=\"983.145,-210.6578 972.7759,-208.4823 979.5251,-216.6492 983.145,-210.6578\"/>\n<text text-anchor=\"middle\" x=\"1030.4948\" y=\"-231.8\" font-family=\"Times,serif\" font-size=\"14.00\" fill=\"#000000\">0</text>\n</g>\n<!-- 17 -->\n<g id=\"node18\" class=\"node\">\n<title>17</title>\n<ellipse fill=\"none\" stroke=\"#000000\" cx=\"1089.4948\" cy=\"-192\" rx=\"63.0888\" ry=\"18\"/>\n<text text-anchor=\"middle\" x=\"1089.4948\" y=\"-188.3\" font-family=\"Times,serif\" font-size=\"14.00\" fill=\"#000000\">17_2_{2.0: 1}</text>\n</g>\n<!-- 15&#45;&gt;17 -->\n<g id=\"edge17\" class=\"edge\">\n<title>15&#45;&gt;17</title>\n<path fill=\"none\" stroke=\"#000000\" d=\"M1089.4948,-260.9735C1089.4948,-249.1918 1089.4948,-233.5607 1089.4948,-220.1581\"/>\n<polygon fill=\"#000000\" stroke=\"#000000\" points=\"1092.9949,-220.0033 1089.4948,-210.0034 1085.9949,-220.0034 1092.9949,-220.0033\"/>\n<text text-anchor=\"middle\" x=\"1093.4948\" y=\"-231.8\" font-family=\"Times,serif\" font-size=\"14.00\" fill=\"#000000\">1</text>\n</g>\n<!-- 18 -->\n<g id=\"node19\" class=\"node\">\n<title>18</title>\n<ellipse fill=\"none\" stroke=\"#000000\" cx=\"1266.4948\" cy=\"-192\" rx=\"95.5831\" ry=\"18\"/>\n<text text-anchor=\"middle\" x=\"1266.4948\" y=\"-188.3\" font-family=\"Times,serif\" font-size=\"14.00\" fill=\"#000000\">18_2_petal length (cm)</text>\n</g>\n<!-- 15&#45;&gt;18 -->\n<g id=\"edge18\" class=\"edge\">\n<title>15&#45;&gt;18</title>\n<path fill=\"none\" stroke=\"#000000\" d=\"M1124.0424,-262.019C1152.3064,-248.1265 1192.4424,-228.3986 1222.9124,-213.4219\"/>\n<polygon fill=\"#000000\" stroke=\"#000000\" points=\"1224.6038,-216.4905 1232.0344,-208.9382 1221.5159,-210.2083 1224.6038,-216.4905\"/>\n<text text-anchor=\"middle\" x=\"1193.4948\" y=\"-231.8\" font-family=\"Times,serif\" font-size=\"14.00\" fill=\"#000000\">2</text>\n</g>\n<!-- 23 -->\n<g id=\"node24\" class=\"node\">\n<title>23</title>\n<ellipse fill=\"none\" stroke=\"#000000\" cx=\"1474.4948\" cy=\"-192\" rx=\"94.7833\" ry=\"18\"/>\n<text text-anchor=\"middle\" x=\"1474.4948\" y=\"-188.3\" font-family=\"Times,serif\" font-size=\"14.00\" fill=\"#000000\">23_2_sepal width (cm)</text>\n</g>\n<!-- 15&#45;&gt;23 -->\n<g id=\"edge23\" class=\"edge\">\n<title>15&#45;&gt;23</title>\n<path fill=\"none\" stroke=\"#000000\" d=\"M1151.3517,-265.0219C1220.1725,-249.4702 1331.1741,-224.3868 1403.4886,-208.0456\"/>\n<polygon fill=\"#000000\" stroke=\"#000000\" points=\"1404.4447,-211.4178 1413.4273,-205.7997 1402.9017,-204.59 1404.4447,-211.4178\"/>\n<text text-anchor=\"middle\" x=\"1309.4948\" y=\"-231.8\" font-family=\"Times,serif\" font-size=\"14.00\" fill=\"#000000\">3</text>\n</g>\n<!-- 26 -->\n<g id=\"node27\" class=\"node\">\n<title>26</title>\n<ellipse fill=\"none\" stroke=\"#000000\" cx=\"1650.4948\" cy=\"-192\" rx=\"63.0888\" ry=\"18\"/>\n<text text-anchor=\"middle\" x=\"1650.4948\" y=\"-188.3\" font-family=\"Times,serif\" font-size=\"14.00\" fill=\"#000000\">26_2_{2.0: 5}</text>\n</g>\n<!-- 15&#45;&gt;26 -->\n<g id=\"edge26\" class=\"edge\">\n<title>15&#45;&gt;26</title>\n<path fill=\"none\" stroke=\"#000000\" d=\"M1159.7532,-266.5786C1171.3476,-264.6372 1183.2496,-262.71 1194.4948,-261 1364.7034,-235.1172 1409.3795,-242.2629 1578.4948,-210 1583.5851,-209.0289 1588.853,-207.9187 1594.1172,-206.737\"/>\n<polygon fill=\"#000000\" stroke=\"#000000\" points=\"1595.2412,-210.069 1604.1881,-204.3942 1593.6551,-203.2511 1595.2412,-210.069\"/>\n<text text-anchor=\"middle\" x=\"1471.4948\" y=\"-231.8\" font-family=\"Times,serif\" font-size=\"14.00\" fill=\"#000000\">4</text>\n</g>\n<!-- 19 -->\n<g id=\"node20\" class=\"node\">\n<title>19</title>\n<ellipse fill=\"none\" stroke=\"#000000\" cx=\"1109.4948\" cy=\"-105\" rx=\"63.0888\" ry=\"18\"/>\n<text text-anchor=\"middle\" x=\"1109.4948\" y=\"-101.3\" font-family=\"Times,serif\" font-size=\"14.00\" fill=\"#000000\">19_3_{1.0: 1}</text>\n</g>\n<!-- 18&#45;&gt;19 -->\n<g id=\"edge19\" class=\"edge\">\n<title>18&#45;&gt;19</title>\n<path fill=\"none\" stroke=\"#000000\" d=\"M1235.4767,-174.8116C1210.1858,-160.7969 1174.3625,-140.9458 1147.3775,-125.9923\"/>\n<polygon fill=\"#000000\" stroke=\"#000000\" points=\"1149.0361,-122.91 1138.5929,-121.1244 1145.6432,-129.0328 1149.0361,-122.91\"/>\n<text text-anchor=\"middle\" x=\"1201.4948\" y=\"-144.8\" font-family=\"Times,serif\" font-size=\"14.00\" fill=\"#000000\">2</text>\n</g>\n<!-- 20 -->\n<g id=\"node21\" class=\"node\">\n<title>20</title>\n<ellipse fill=\"none\" stroke=\"#000000\" cx=\"1285.4948\" cy=\"-105\" rx=\"94.7833\" ry=\"18\"/>\n<text text-anchor=\"middle\" x=\"1285.4948\" y=\"-101.3\" font-family=\"Times,serif\" font-size=\"14.00\" fill=\"#000000\">20_3_sepal width (cm)</text>\n</g>\n<!-- 18&#45;&gt;20 -->\n<g id=\"edge20\" class=\"edge\">\n<title>18&#45;&gt;20</title>\n<path fill=\"none\" stroke=\"#000000\" d=\"M1270.4316,-173.9735C1273.0047,-162.1918 1276.4183,-146.5607 1279.3453,-133.1581\"/>\n<polygon fill=\"#000000\" stroke=\"#000000\" points=\"1282.8488,-133.5199 1281.563,-123.0034 1276.0099,-132.0263 1282.8488,-133.5199\"/>\n<text text-anchor=\"middle\" x=\"1281.4948\" y=\"-144.8\" font-family=\"Times,serif\" font-size=\"14.00\" fill=\"#000000\">3</text>\n</g>\n<!-- 21 -->\n<g id=\"node22\" class=\"node\">\n<title>21</title>\n<ellipse fill=\"none\" stroke=\"#000000\" cx=\"1134.4948\" cy=\"-18\" rx=\"88.2844\" ry=\"18\"/>\n<text text-anchor=\"middle\" x=\"1134.4948\" y=\"-14.3\" font-family=\"Times,serif\" font-size=\"14.00\" fill=\"#000000\">21_4_{1.0: 1, 2.0: 6}</text>\n</g>\n<!-- 20&#45;&gt;21 -->\n<g id=\"edge21\" class=\"edge\">\n<title>20&#45;&gt;21</title>\n<path fill=\"none\" stroke=\"#000000\" d=\"M1255.6621,-87.8116C1231.9048,-74.1236 1198.4844,-54.8682 1172.7585,-40.046\"/>\n<polygon fill=\"#000000\" stroke=\"#000000\" points=\"1174.4203,-36.9641 1164.0083,-35.0045 1170.9257,-43.0294 1174.4203,-36.9641\"/>\n<text text-anchor=\"middle\" x=\"1223.4948\" y=\"-57.8\" font-family=\"Times,serif\" font-size=\"14.00\" fill=\"#000000\">1</text>\n</g>\n<!-- 22 -->\n<g id=\"node23\" class=\"node\">\n<title>22</title>\n<ellipse fill=\"none\" stroke=\"#000000\" cx=\"1329.4948\" cy=\"-18\" rx=\"88.2844\" ry=\"18\"/>\n<text text-anchor=\"middle\" x=\"1329.4948\" y=\"-14.3\" font-family=\"Times,serif\" font-size=\"14.00\" fill=\"#000000\">22_4_{1.0: 2, 2.0: 4}</text>\n</g>\n<!-- 20&#45;&gt;22 -->\n<g id=\"edge22\" class=\"edge\">\n<title>20&#45;&gt;22</title>\n<path fill=\"none\" stroke=\"#000000\" d=\"M1294.6116,-86.9735C1300.7472,-74.8418 1308.947,-58.6287 1315.8549,-44.9698\"/>\n<polygon fill=\"#000000\" stroke=\"#000000\" points=\"1318.9998,-46.5066 1320.3897,-36.0034 1312.7532,-43.3474 1318.9998,-46.5066\"/>\n<text text-anchor=\"middle\" x=\"1314.4948\" y=\"-57.8\" font-family=\"Times,serif\" font-size=\"14.00\" fill=\"#000000\">2</text>\n</g>\n<!-- 24 -->\n<g id=\"node25\" class=\"node\">\n<title>24</title>\n<ellipse fill=\"none\" stroke=\"#000000\" cx=\"1467.4948\" cy=\"-105\" rx=\"63.0888\" ry=\"18\"/>\n<text text-anchor=\"middle\" x=\"1467.4948\" y=\"-101.3\" font-family=\"Times,serif\" font-size=\"14.00\" fill=\"#000000\">24_3_{2.0: 1}</text>\n</g>\n<!-- 23&#45;&gt;24 -->\n<g id=\"edge24\" class=\"edge\">\n<title>23&#45;&gt;24</title>\n<path fill=\"none\" stroke=\"#000000\" d=\"M1473.0444,-173.9735C1472.0964,-162.1918 1470.8388,-146.5607 1469.7604,-133.1581\"/>\n<polygon fill=\"#000000\" stroke=\"#000000\" points=\"1473.2342,-132.6904 1468.9434,-123.0034 1466.2567,-133.2519 1473.2342,-132.6904\"/>\n<text text-anchor=\"middle\" x=\"1475.4948\" y=\"-144.8\" font-family=\"Times,serif\" font-size=\"14.00\" fill=\"#000000\">1</text>\n</g>\n<!-- 25 -->\n<g id=\"node26\" class=\"node\">\n<title>25</title>\n<ellipse fill=\"none\" stroke=\"#000000\" cx=\"1636.4948\" cy=\"-105\" rx=\"88.2844\" ry=\"18\"/>\n<text text-anchor=\"middle\" x=\"1636.4948\" y=\"-101.3\" font-family=\"Times,serif\" font-size=\"14.00\" fill=\"#000000\">25_3_{1.0: 1, 2.0: 3}</text>\n</g>\n<!-- 23&#45;&gt;25 -->\n<g id=\"edge25\" class=\"edge\">\n<title>23&#45;&gt;25</title>\n<path fill=\"none\" stroke=\"#000000\" d=\"M1506.1146,-175.019C1531.7603,-161.2463 1568.0855,-141.7383 1595.8826,-126.8103\"/>\n<polygon fill=\"#000000\" stroke=\"#000000\" points=\"1597.8008,-129.753 1604.9548,-121.9382 1594.4888,-123.586 1597.8008,-129.753\"/>\n<text text-anchor=\"middle\" x=\"1569.4948\" y=\"-144.8\" font-family=\"Times,serif\" font-size=\"14.00\" fill=\"#000000\">2</text>\n</g>\n</g>\n</svg>\n"
     },
     "metadata": {},
     "execution_count": 14
    }
   ],
   "source": [
    "model.print_tree_before_cut"
   ]
  },
  {
   "cell_type": "code",
   "execution_count": 15,
   "metadata": {},
   "outputs": [
    {
     "output_type": "execute_result",
     "data": {
      "text/plain": "<graphviz.dot.Digraph at 0x124e7bb10>",
      "image/svg+xml": "<?xml version=\"1.0\" encoding=\"UTF-8\" standalone=\"no\"?>\n<!DOCTYPE svg PUBLIC \"-//W3C//DTD SVG 1.1//EN\"\n \"http://www.w3.org/Graphics/SVG/1.1/DTD/svg11.dtd\">\n<!-- Generated by graphviz version 2.40.1 (20161225.0304)\n -->\n<!-- Title: %3 Pages: 1 -->\n<svg width=\"1709pt\" height=\"392pt\"\n viewBox=\"0.00 0.00 1708.54 392.00\" xmlns=\"http://www.w3.org/2000/svg\" xmlns:xlink=\"http://www.w3.org/1999/xlink\">\n<g id=\"graph0\" class=\"graph\" transform=\"scale(1 1) rotate(0) translate(4 388)\">\n<title>%3</title>\n<polygon fill=\"#ffffff\" stroke=\"transparent\" points=\"-4,4 -4,-388 1704.5392,-388 1704.5392,4 -4,4\"/>\n<!-- 0 -->\n<g id=\"node1\" class=\"node\">\n<title>0</title>\n<ellipse fill=\"none\" stroke=\"#000000\" cx=\"603.4948\" cy=\"-366\" rx=\"89.0842\" ry=\"18\"/>\n<text text-anchor=\"middle\" x=\"603.4948\" y=\"-362.3\" font-family=\"Times,serif\" font-size=\"14.00\" fill=\"#000000\">0_0_petal width (cm)</text>\n</g>\n<!-- 1 -->\n<g id=\"node2\" class=\"node\">\n<title>1</title>\n<ellipse fill=\"none\" stroke=\"#000000\" cx=\"157.4948\" cy=\"-279\" rx=\"63.0888\" ry=\"18\"/>\n<text text-anchor=\"middle\" x=\"157.4948\" y=\"-275.3\" font-family=\"Times,serif\" font-size=\"14.00\" fill=\"#000000\">1_1_{0.0: 38}</text>\n</g>\n<!-- 0&#45;&gt;1 -->\n<g id=\"edge1\" class=\"edge\">\n<title>0&#45;&gt;1</title>\n<path fill=\"none\" stroke=\"#000000\" d=\"M534.3053,-354.5689C459.0426,-341.824 335.3147,-319.9654 229.4948,-297 224.5074,-295.9176 219.3396,-294.7392 214.1668,-293.5205\"/>\n<polygon fill=\"#000000\" stroke=\"#000000\" points=\"214.7997,-290.0731 204.2589,-291.1417 213.1654,-296.8797 214.7997,-290.0731\"/>\n<text text-anchor=\"middle\" x=\"397.4948\" y=\"-318.8\" font-family=\"Times,serif\" font-size=\"14.00\" fill=\"#000000\">0</text>\n</g>\n<!-- 2 -->\n<g id=\"node3\" class=\"node\">\n<title>2</title>\n<ellipse fill=\"none\" stroke=\"#000000\" cx=\"328.4948\" cy=\"-279\" rx=\"90.1842\" ry=\"18\"/>\n<text text-anchor=\"middle\" x=\"328.4948\" y=\"-275.3\" font-family=\"Times,serif\" font-size=\"14.00\" fill=\"#000000\">2_1_sepal width (cm)</text>\n</g>\n<!-- 0&#45;&gt;2 -->\n<g id=\"edge2\" class=\"edge\">\n<title>0&#45;&gt;2</title>\n<path fill=\"none\" stroke=\"#000000\" d=\"M555.2788,-350.7462C508.2001,-335.8522 436.519,-313.1749 386.3819,-297.3134\"/>\n<polygon fill=\"#000000\" stroke=\"#000000\" points=\"387.2455,-293.9157 376.6555,-294.2363 385.134,-300.5896 387.2455,-293.9157\"/>\n<text text-anchor=\"middle\" x=\"486.4948\" y=\"-318.8\" font-family=\"Times,serif\" font-size=\"14.00\" fill=\"#000000\">1</text>\n</g>\n<!-- 6 -->\n<g id=\"node7\" class=\"node\">\n<title>6</title>\n<ellipse fill=\"none\" stroke=\"#000000\" cx=\"603.4948\" cy=\"-279\" rx=\"90.9839\" ry=\"18\"/>\n<text text-anchor=\"middle\" x=\"603.4948\" y=\"-275.3\" font-family=\"Times,serif\" font-size=\"14.00\" fill=\"#000000\">6_1_petal length (cm)</text>\n</g>\n<!-- 0&#45;&gt;6 -->\n<g id=\"edge6\" class=\"edge\">\n<title>0&#45;&gt;6</title>\n<path fill=\"none\" stroke=\"#000000\" d=\"M603.4948,-347.9735C603.4948,-336.1918 603.4948,-320.5607 603.4948,-307.1581\"/>\n<polygon fill=\"#000000\" stroke=\"#000000\" points=\"606.9949,-307.0033 603.4948,-297.0034 599.9949,-307.0034 606.9949,-307.0033\"/>\n<text text-anchor=\"middle\" x=\"607.4948\" y=\"-318.8\" font-family=\"Times,serif\" font-size=\"14.00\" fill=\"#000000\">2</text>\n</g>\n<!-- 15 -->\n<g id=\"node14\" class=\"node\">\n<title>15</title>\n<ellipse fill=\"none\" stroke=\"#000000\" cx=\"1089.4948\" cy=\"-279\" rx=\"96.6831\" ry=\"18\"/>\n<text text-anchor=\"middle\" x=\"1089.4948\" y=\"-275.3\" font-family=\"Times,serif\" font-size=\"14.00\" fill=\"#000000\">15_1_sepal length (cm)</text>\n</g>\n<!-- 0&#45;&gt;15 -->\n<g id=\"edge13\" class=\"edge\">\n<title>0&#45;&gt;15</title>\n<path fill=\"none\" stroke=\"#000000\" d=\"M670.3062,-354.0399C758.796,-338.1992 914.6934,-310.2916 1009.3975,-293.3384\"/>\n<polygon fill=\"#000000\" stroke=\"#000000\" points=\"1010.2731,-296.7374 1019.4998,-291.53 1009.0395,-289.8469 1010.2731,-296.7374\"/>\n<text text-anchor=\"middle\" x=\"880.4948\" y=\"-318.8\" font-family=\"Times,serif\" font-size=\"14.00\" fill=\"#000000\">3</text>\n</g>\n<!-- 27 -->\n<g id=\"node24\" class=\"node\">\n<title>27</title>\n<ellipse fill=\"none\" stroke=\"#000000\" cx=\"1271.4948\" cy=\"-279\" rx=\"67.6881\" ry=\"18\"/>\n<text text-anchor=\"middle\" x=\"1271.4948\" y=\"-275.3\" font-family=\"Times,serif\" font-size=\"14.00\" fill=\"#000000\">27_1_{2.0: 19}</text>\n</g>\n<!-- 0&#45;&gt;27 -->\n<g id=\"edge23\" class=\"edge\">\n<title>0&#45;&gt;27</title>\n<path fill=\"none\" stroke=\"#000000\" d=\"M686.7852,-359.3747C801.7737,-349.5281 1015.3763,-328.7153 1195.4948,-297 1201.1411,-296.0058 1206.9954,-294.849 1212.835,-293.6104\"/>\n<polygon fill=\"#000000\" stroke=\"#000000\" points=\"1213.5934,-297.0274 1222.6095,-291.4631 1212.0914,-290.1904 1213.5934,-297.0274\"/>\n<text text-anchor=\"middle\" x=\"1071.4948\" y=\"-318.8\" font-family=\"Times,serif\" font-size=\"14.00\" fill=\"#000000\">4</text>\n</g>\n<!-- 3 -->\n<g id=\"node4\" class=\"node\">\n<title>3</title>\n<ellipse fill=\"none\" stroke=\"#000000\" cx=\"58.4948\" cy=\"-192\" rx=\"58.4896\" ry=\"18\"/>\n<text text-anchor=\"middle\" x=\"58.4948\" y=\"-188.3\" font-family=\"Times,serif\" font-size=\"14.00\" fill=\"#000000\">3_2_{1.0: 4}</text>\n</g>\n<!-- 2&#45;&gt;3 -->\n<g id=\"edge3\" class=\"edge\">\n<title>2&#45;&gt;3</title>\n<path fill=\"none\" stroke=\"#000000\" d=\"M280.8457,-263.6464C232.5491,-248.0842 158.1132,-224.0993 108.8629,-208.2297\"/>\n<polygon fill=\"#000000\" stroke=\"#000000\" points=\"109.6507,-204.8064 99.0592,-205.0707 107.5038,-211.4691 109.6507,-204.8064\"/>\n<text text-anchor=\"middle\" x=\"214.4948\" y=\"-231.8\" font-family=\"Times,serif\" font-size=\"14.00\" fill=\"#000000\">0</text>\n</g>\n<!-- 4 -->\n<g id=\"node5\" class=\"node\">\n<title>4</title>\n<ellipse fill=\"none\" stroke=\"#000000\" cx=\"193.4948\" cy=\"-192\" rx=\"58.4896\" ry=\"18\"/>\n<text text-anchor=\"middle\" x=\"193.4948\" y=\"-188.3\" font-family=\"Times,serif\" font-size=\"14.00\" fill=\"#000000\">4_2_{1.0: 1}</text>\n</g>\n<!-- 2&#45;&gt;4 -->\n<g id=\"edge4\" class=\"edge\">\n<title>2&#45;&gt;4</title>\n<path fill=\"none\" stroke=\"#000000\" d=\"M301.5,-261.6033C280.2124,-247.8846 250.3956,-228.6694 227.4823,-213.9031\"/>\n<polygon fill=\"#000000\" stroke=\"#000000\" points=\"229.3725,-210.9574 219.0708,-208.4823 225.5806,-216.8414 229.3725,-210.9574\"/>\n<text text-anchor=\"middle\" x=\"273.4948\" y=\"-231.8\" font-family=\"Times,serif\" font-size=\"14.00\" fill=\"#000000\">1</text>\n</g>\n<!-- 5 -->\n<g id=\"node6\" class=\"node\">\n<title>5</title>\n<ellipse fill=\"none\" stroke=\"#000000\" cx=\"328.4948\" cy=\"-192\" rx=\"58.4896\" ry=\"18\"/>\n<text text-anchor=\"middle\" x=\"328.4948\" y=\"-188.3\" font-family=\"Times,serif\" font-size=\"14.00\" fill=\"#000000\">5_2_{0.0: 1}</text>\n</g>\n<!-- 2&#45;&gt;5 -->\n<g id=\"edge5\" class=\"edge\">\n<title>2&#45;&gt;5</title>\n<path fill=\"none\" stroke=\"#000000\" d=\"M328.4948,-260.9735C328.4948,-249.1918 328.4948,-233.5607 328.4948,-220.1581\"/>\n<polygon fill=\"#000000\" stroke=\"#000000\" points=\"331.9949,-220.0033 328.4948,-210.0034 324.9949,-220.0034 331.9949,-220.0033\"/>\n<text text-anchor=\"middle\" x=\"332.4948\" y=\"-231.8\" font-family=\"Times,serif\" font-size=\"14.00\" fill=\"#000000\">3</text>\n</g>\n<!-- 7 -->\n<g id=\"node8\" class=\"node\">\n<title>7</title>\n<ellipse fill=\"none\" stroke=\"#000000\" cx=\"463.4948\" cy=\"-192\" rx=\"58.4896\" ry=\"18\"/>\n<text text-anchor=\"middle\" x=\"463.4948\" y=\"-188.3\" font-family=\"Times,serif\" font-size=\"14.00\" fill=\"#000000\">7_2_{1.0: 1}</text>\n</g>\n<!-- 6&#45;&gt;7 -->\n<g id=\"edge7\" class=\"edge\">\n<title>6&#45;&gt;7</title>\n<path fill=\"none\" stroke=\"#000000\" d=\"M575.8353,-261.8116C553.6478,-248.0236 522.3696,-228.5865 498.4494,-213.7218\"/>\n<polygon fill=\"#000000\" stroke=\"#000000\" points=\"500.0173,-210.5754 489.6763,-208.2699 496.3226,-216.5209 500.0173,-210.5754\"/>\n<text text-anchor=\"middle\" x=\"546.4948\" y=\"-231.8\" font-family=\"Times,serif\" font-size=\"14.00\" fill=\"#000000\">1</text>\n</g>\n<!-- 8 -->\n<g id=\"node9\" class=\"node\">\n<title>8</title>\n<ellipse fill=\"none\" stroke=\"#000000\" cx=\"603.4948\" cy=\"-192\" rx=\"63.0888\" ry=\"18\"/>\n<text text-anchor=\"middle\" x=\"603.4948\" y=\"-188.3\" font-family=\"Times,serif\" font-size=\"14.00\" fill=\"#000000\">8_2_{1.0: 20}</text>\n</g>\n<!-- 6&#45;&gt;8 -->\n<g id=\"edge8\" class=\"edge\">\n<title>6&#45;&gt;8</title>\n<path fill=\"none\" stroke=\"#000000\" d=\"M603.4948,-260.9735C603.4948,-249.1918 603.4948,-233.5607 603.4948,-220.1581\"/>\n<polygon fill=\"#000000\" stroke=\"#000000\" points=\"606.9949,-220.0033 603.4948,-210.0034 599.9949,-220.0034 606.9949,-220.0033\"/>\n<text text-anchor=\"middle\" x=\"607.4948\" y=\"-231.8\" font-family=\"Times,serif\" font-size=\"14.00\" fill=\"#000000\">2</text>\n</g>\n<!-- 9 -->\n<g id=\"node10\" class=\"node\">\n<title>9</title>\n<ellipse fill=\"none\" stroke=\"#000000\" cx=\"774.4948\" cy=\"-192\" rx=\"90.1842\" ry=\"18\"/>\n<text text-anchor=\"middle\" x=\"774.4948\" y=\"-188.3\" font-family=\"Times,serif\" font-size=\"14.00\" fill=\"#000000\">9_2_sepal width (cm)</text>\n</g>\n<!-- 6&#45;&gt;9 -->\n<g id=\"edge9\" class=\"edge\">\n<title>6&#45;&gt;9</title>\n<path fill=\"none\" stroke=\"#000000\" d=\"M636.8713,-262.019C664.1472,-248.1418 702.8675,-228.442 732.2927,-213.4712\"/>\n<polygon fill=\"#000000\" stroke=\"#000000\" points=\"734.1678,-216.4443 741.4934,-208.7902 730.9935,-210.2053 734.1678,-216.4443\"/>\n<text text-anchor=\"middle\" x=\"703.4948\" y=\"-231.8\" font-family=\"Times,serif\" font-size=\"14.00\" fill=\"#000000\">3</text>\n</g>\n<!-- 10 -->\n<g id=\"node11\" class=\"node\">\n<title>10</title>\n<ellipse fill=\"none\" stroke=\"#000000\" cx=\"605.4948\" cy=\"-105\" rx=\"63.0888\" ry=\"18\"/>\n<text text-anchor=\"middle\" x=\"605.4948\" y=\"-101.3\" font-family=\"Times,serif\" font-size=\"14.00\" fill=\"#000000\">10_3_{2.0: 1}</text>\n</g>\n<!-- 9&#45;&gt;10 -->\n<g id=\"edge10\" class=\"edge\">\n<title>9&#45;&gt;10</title>\n<path fill=\"none\" stroke=\"#000000\" d=\"M741.5087,-175.019C713.9451,-160.8294 674.556,-140.5522 645.2539,-125.4677\"/>\n<polygon fill=\"#000000\" stroke=\"#000000\" points=\"646.6154,-122.2321 636.1224,-120.7669 643.4115,-128.4558 646.6154,-122.2321\"/>\n<text text-anchor=\"middle\" x=\"704.4948\" y=\"-144.8\" font-family=\"Times,serif\" font-size=\"14.00\" fill=\"#000000\">0</text>\n</g>\n<!-- 11 -->\n<g id=\"node12\" class=\"node\">\n<title>11</title>\n<ellipse fill=\"none\" stroke=\"#000000\" cx=\"774.4948\" cy=\"-105\" rx=\"88.2844\" ry=\"18\"/>\n<text text-anchor=\"middle\" x=\"774.4948\" y=\"-101.3\" font-family=\"Times,serif\" font-size=\"14.00\" fill=\"#000000\">11_3_{1.0: 4, 2.0: 1}</text>\n</g>\n<!-- 9&#45;&gt;11 -->\n<g id=\"edge11\" class=\"edge\">\n<title>9&#45;&gt;11</title>\n<path fill=\"none\" stroke=\"#000000\" d=\"M774.4948,-173.9735C774.4948,-162.1918 774.4948,-146.5607 774.4948,-133.1581\"/>\n<polygon fill=\"#000000\" stroke=\"#000000\" points=\"777.9949,-133.0033 774.4948,-123.0034 770.9949,-133.0034 777.9949,-133.0033\"/>\n<text text-anchor=\"middle\" x=\"778.4948\" y=\"-144.8\" font-family=\"Times,serif\" font-size=\"14.00\" fill=\"#000000\">1</text>\n</g>\n<!-- 14 -->\n<g id=\"node13\" class=\"node\">\n<title>14</title>\n<ellipse fill=\"none\" stroke=\"#000000\" cx=\"943.4948\" cy=\"-105\" rx=\"63.0888\" ry=\"18\"/>\n<text text-anchor=\"middle\" x=\"943.4948\" y=\"-101.3\" font-family=\"Times,serif\" font-size=\"14.00\" fill=\"#000000\">14_3_{1.0: 4}</text>\n</g>\n<!-- 9&#45;&gt;14 -->\n<g id=\"edge12\" class=\"edge\">\n<title>9&#45;&gt;14</title>\n<path fill=\"none\" stroke=\"#000000\" d=\"M807.4809,-175.019C835.0445,-160.8294 874.4336,-140.5522 903.7358,-125.4677\"/>\n<polygon fill=\"#000000\" stroke=\"#000000\" points=\"905.5782,-128.4558 912.8672,-120.7669 902.3742,-122.2321 905.5782,-128.4558\"/>\n<text text-anchor=\"middle\" x=\"873.4948\" y=\"-144.8\" font-family=\"Times,serif\" font-size=\"14.00\" fill=\"#000000\">2</text>\n</g>\n<!-- 16 -->\n<g id=\"node15\" class=\"node\">\n<title>16</title>\n<ellipse fill=\"none\" stroke=\"#000000\" cx=\"945.4948\" cy=\"-192\" rx=\"63.0888\" ry=\"18\"/>\n<text text-anchor=\"middle\" x=\"945.4948\" y=\"-188.3\" font-family=\"Times,serif\" font-size=\"14.00\" fill=\"#000000\">16_2_{2.0: 1}</text>\n</g>\n<!-- 15&#45;&gt;16 -->\n<g id=\"edge14\" class=\"edge\">\n<title>15&#45;&gt;16</title>\n<path fill=\"none\" stroke=\"#000000\" d=\"M1060.7004,-261.6033C1037.8935,-247.8242 1005.9085,-228.5 981.4256,-213.7082\"/>\n<polygon fill=\"#000000\" stroke=\"#000000\" points=\"983.145,-210.6578 972.7759,-208.4823 979.5251,-216.6492 983.145,-210.6578\"/>\n<text text-anchor=\"middle\" x=\"1030.4948\" y=\"-231.8\" font-family=\"Times,serif\" font-size=\"14.00\" fill=\"#000000\">0</text>\n</g>\n<!-- 17 -->\n<g id=\"node16\" class=\"node\">\n<title>17</title>\n<ellipse fill=\"none\" stroke=\"#000000\" cx=\"1089.4948\" cy=\"-192\" rx=\"63.0888\" ry=\"18\"/>\n<text text-anchor=\"middle\" x=\"1089.4948\" y=\"-188.3\" font-family=\"Times,serif\" font-size=\"14.00\" fill=\"#000000\">17_2_{2.0: 1}</text>\n</g>\n<!-- 15&#45;&gt;17 -->\n<g id=\"edge15\" class=\"edge\">\n<title>15&#45;&gt;17</title>\n<path fill=\"none\" stroke=\"#000000\" d=\"M1089.4948,-260.9735C1089.4948,-249.1918 1089.4948,-233.5607 1089.4948,-220.1581\"/>\n<polygon fill=\"#000000\" stroke=\"#000000\" points=\"1092.9949,-220.0033 1089.4948,-210.0034 1085.9949,-220.0034 1092.9949,-220.0033\"/>\n<text text-anchor=\"middle\" x=\"1093.4948\" y=\"-231.8\" font-family=\"Times,serif\" font-size=\"14.00\" fill=\"#000000\">1</text>\n</g>\n<!-- 18 -->\n<g id=\"node17\" class=\"node\">\n<title>18</title>\n<ellipse fill=\"none\" stroke=\"#000000\" cx=\"1266.4948\" cy=\"-192\" rx=\"95.5831\" ry=\"18\"/>\n<text text-anchor=\"middle\" x=\"1266.4948\" y=\"-188.3\" font-family=\"Times,serif\" font-size=\"14.00\" fill=\"#000000\">18_2_petal length (cm)</text>\n</g>\n<!-- 15&#45;&gt;18 -->\n<g id=\"edge16\" class=\"edge\">\n<title>15&#45;&gt;18</title>\n<path fill=\"none\" stroke=\"#000000\" d=\"M1124.0424,-262.019C1152.3064,-248.1265 1192.4424,-228.3986 1222.9124,-213.4219\"/>\n<polygon fill=\"#000000\" stroke=\"#000000\" points=\"1224.6038,-216.4905 1232.0344,-208.9382 1221.5159,-210.2083 1224.6038,-216.4905\"/>\n<text text-anchor=\"middle\" x=\"1193.4948\" y=\"-231.8\" font-family=\"Times,serif\" font-size=\"14.00\" fill=\"#000000\">2</text>\n</g>\n<!-- 23 -->\n<g id=\"node22\" class=\"node\">\n<title>23</title>\n<ellipse fill=\"none\" stroke=\"#000000\" cx=\"1468.4948\" cy=\"-192\" rx=\"88.2844\" ry=\"18\"/>\n<text text-anchor=\"middle\" x=\"1468.4948\" y=\"-188.3\" font-family=\"Times,serif\" font-size=\"14.00\" fill=\"#000000\">23_2_{2.0: 4, 1.0: 1}</text>\n</g>\n<!-- 15&#45;&gt;23 -->\n<g id=\"edge21\" class=\"edge\">\n<title>15&#45;&gt;23</title>\n<path fill=\"none\" stroke=\"#000000\" d=\"M1150.8089,-264.9253C1219.04,-249.2627 1329.0098,-224.019 1400.0109,-207.7206\"/>\n<polygon fill=\"#000000\" stroke=\"#000000\" points=\"1400.799,-211.1308 1409.7625,-205.4821 1399.2329,-204.3082 1400.799,-211.1308\"/>\n<text text-anchor=\"middle\" x=\"1306.4948\" y=\"-231.8\" font-family=\"Times,serif\" font-size=\"14.00\" fill=\"#000000\">3</text>\n</g>\n<!-- 26 -->\n<g id=\"node23\" class=\"node\">\n<title>26</title>\n<ellipse fill=\"none\" stroke=\"#000000\" cx=\"1637.4948\" cy=\"-192\" rx=\"63.0888\" ry=\"18\"/>\n<text text-anchor=\"middle\" x=\"1637.4948\" y=\"-188.3\" font-family=\"Times,serif\" font-size=\"14.00\" fill=\"#000000\">26_2_{2.0: 5}</text>\n</g>\n<!-- 15&#45;&gt;26 -->\n<g id=\"edge22\" class=\"edge\">\n<title>15&#45;&gt;26</title>\n<path fill=\"none\" stroke=\"#000000\" d=\"M1160.0429,-266.5756C1171.547,-264.6447 1183.3449,-262.7216 1194.4948,-261 1358.9851,-235.602 1402.0755,-241.5634 1565.4948,-210 1570.5828,-209.0173 1575.8493,-207.8991 1581.1124,-206.7122\"/>\n<polygon fill=\"#000000\" stroke=\"#000000\" points=\"1582.2389,-210.0434 1591.1821,-204.3627 1580.6483,-203.2265 1582.2389,-210.0434\"/>\n<text text-anchor=\"middle\" x=\"1462.4948\" y=\"-231.8\" font-family=\"Times,serif\" font-size=\"14.00\" fill=\"#000000\">4</text>\n</g>\n<!-- 19 -->\n<g id=\"node18\" class=\"node\">\n<title>19</title>\n<ellipse fill=\"none\" stroke=\"#000000\" cx=\"1214.4948\" cy=\"-105\" rx=\"63.0888\" ry=\"18\"/>\n<text text-anchor=\"middle\" x=\"1214.4948\" y=\"-101.3\" font-family=\"Times,serif\" font-size=\"14.00\" fill=\"#000000\">19_3_{1.0: 1}</text>\n</g>\n<!-- 18&#45;&gt;19 -->\n<g id=\"edge17\" class=\"edge\">\n<title>18&#45;&gt;19</title>\n<path fill=\"none\" stroke=\"#000000\" d=\"M1255.7204,-173.9735C1248.4692,-161.8418 1238.7786,-145.6287 1230.6147,-131.9698\"/>\n<polygon fill=\"#000000\" stroke=\"#000000\" points=\"1233.3902,-129.7913 1225.2554,-123.0034 1227.3817,-133.3827 1233.3902,-129.7913\"/>\n<text text-anchor=\"middle\" x=\"1248.4948\" y=\"-144.8\" font-family=\"Times,serif\" font-size=\"14.00\" fill=\"#000000\">2</text>\n</g>\n<!-- 20 -->\n<g id=\"node19\" class=\"node\">\n<title>20</title>\n<ellipse fill=\"none\" stroke=\"#000000\" cx=\"1390.4948\" cy=\"-105\" rx=\"94.7833\" ry=\"18\"/>\n<text text-anchor=\"middle\" x=\"1390.4948\" y=\"-101.3\" font-family=\"Times,serif\" font-size=\"14.00\" fill=\"#000000\">20_3_sepal width (cm)</text>\n</g>\n<!-- 18&#45;&gt;20 -->\n<g id=\"edge18\" class=\"edge\">\n<title>18&#45;&gt;20</title>\n<path fill=\"none\" stroke=\"#000000\" d=\"M1291.29,-174.6033C1310.1739,-161.3542 1336.3649,-142.9782 1357.094,-128.4345\"/>\n<polygon fill=\"#000000\" stroke=\"#000000\" points=\"1359.1416,-131.2734 1365.3175,-122.6647 1355.1212,-125.5431 1359.1416,-131.2734\"/>\n<text text-anchor=\"middle\" x=\"1340.4948\" y=\"-144.8\" font-family=\"Times,serif\" font-size=\"14.00\" fill=\"#000000\">3</text>\n</g>\n<!-- 21 -->\n<g id=\"node20\" class=\"node\">\n<title>21</title>\n<ellipse fill=\"none\" stroke=\"#000000\" cx=\"1292.4948\" cy=\"-18\" rx=\"88.2844\" ry=\"18\"/>\n<text text-anchor=\"middle\" x=\"1292.4948\" y=\"-14.3\" font-family=\"Times,serif\" font-size=\"14.00\" fill=\"#000000\">21_4_{1.0: 1, 2.0: 6}</text>\n</g>\n<!-- 20&#45;&gt;21 -->\n<g id=\"edge19\" class=\"edge\">\n<title>20&#45;&gt;21</title>\n<path fill=\"none\" stroke=\"#000000\" d=\"M1370.663,-87.3943C1356.0515,-74.4228 1335.9993,-56.6213 1319.863,-42.2962\"/>\n<polygon fill=\"#000000\" stroke=\"#000000\" points=\"1322.099,-39.6011 1312.2971,-35.5796 1317.4518,-44.8359 1322.099,-39.6011\"/>\n<text text-anchor=\"middle\" x=\"1351.4948\" y=\"-57.8\" font-family=\"Times,serif\" font-size=\"14.00\" fill=\"#000000\">1</text>\n</g>\n<!-- 22 -->\n<g id=\"node21\" class=\"node\">\n<title>22</title>\n<ellipse fill=\"none\" stroke=\"#000000\" cx=\"1487.4948\" cy=\"-18\" rx=\"88.2844\" ry=\"18\"/>\n<text text-anchor=\"middle\" x=\"1487.4948\" y=\"-14.3\" font-family=\"Times,serif\" font-size=\"14.00\" fill=\"#000000\">22_4_{1.0: 2, 2.0: 4}</text>\n</g>\n<!-- 20&#45;&gt;22 -->\n<g id=\"edge20\" class=\"edge\">\n<title>20&#45;&gt;22</title>\n<path fill=\"none\" stroke=\"#000000\" d=\"M1410.5933,-86.9735C1424.8643,-74.1738 1444.2007,-56.8308 1459.9135,-42.7379\"/>\n<polygon fill=\"#000000\" stroke=\"#000000\" points=\"1462.6465,-44.9882 1467.754,-35.7057 1457.9726,-39.7771 1462.6465,-44.9882\"/>\n<text text-anchor=\"middle\" x=\"1449.4948\" y=\"-57.8\" font-family=\"Times,serif\" font-size=\"14.00\" fill=\"#000000\">2</text>\n</g>\n</g>\n</svg>\n"
     },
     "metadata": {},
     "execution_count": 15
    }
   ],
   "source": [
    "model.print_tree_after_cut"
   ]
  },
  {
   "cell_type": "markdown",
   "metadata": {},
   "source": [
    "### C4.5模型测试"
   ]
  },
  {
   "cell_type": "code",
   "execution_count": 16,
   "metadata": {
    "tags": []
   },
   "outputs": [
    {
     "output_type": "stream",
     "name": "stdout",
     "text": "accuracy: 0.97\n"
    }
   ],
   "source": [
    "model = C45Model()\n",
    "model.fit(train_x, train_y)\n",
    "pre_y = model.predict(test_x)\n",
    "print('accuracy: %.2f' % model.get_accuracy(test_y, pre_y))"
   ]
  },
  {
   "cell_type": "code",
   "execution_count": null,
   "metadata": {},
   "outputs": [],
   "source": []
  }
 ],
 "metadata": {
  "language_info": {
   "codemirror_mode": {
    "name": "ipython",
    "version": 3
   },
   "file_extension": ".py",
   "mimetype": "text/x-python",
   "name": "python",
   "nbconvert_exporter": "python",
   "pygments_lexer": "ipython3",
   "version": "3.7.7-final"
  },
  "orig_nbformat": 2,
  "kernelspec": {
   "name": "python_defaultSpec_1599116626036",
   "display_name": "Python 3.7.7 64-bit ('data_analy': conda)"
  }
 },
 "nbformat": 4,
 "nbformat_minor": 2
}