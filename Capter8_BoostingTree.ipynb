{
 "metadata": {
  "language_info": {
   "codemirror_mode": {
    "name": "ipython",
    "version": 3
   },
   "file_extension": ".py",
   "mimetype": "text/x-python",
   "name": "python",
   "nbconvert_exporter": "python",
   "pygments_lexer": "ipython3",
   "version": "3.7.7-final"
  },
  "orig_nbformat": 2,
  "kernelspec": {
   "name": "python3",
   "display_name": "Python 3.7.7 64-bit ('data_analy': conda)",
   "metadata": {
    "interpreter": {
     "hash": "3ddee81a1b27f05db421b9f5cb6fc46ca6f9935fcf31d769e2300ba44e2b6654"
    }
   }
  }
 },
 "nbformat": 4,
 "nbformat_minor": 2,
 "cells": [
  {
   "cell_type": "markdown",
   "metadata": {},
   "source": [
    "# Capter8 提升方法 \n",
    "## 梯度提升回归树模型\n",
    "### 构建cart回归树（同Capter5 BoostingTree)"
   ]
  },
  {
   "cell_type": "code",
   "execution_count": 1,
   "metadata": {},
   "outputs": [],
   "source": [
    "import pandas as pd\n",
    "import numpy as np\n",
    "from graphviz import Digraph\n",
    "class CartTree():\n",
    "    def __init__(self, tree_type='regress', eps = 0.01):\n",
    "        self.tree_type = tree_type\n",
    "        self.nid = 0\n",
    "        self.eps = eps\n",
    "\n",
    "    def get_gini_loss(self, data_df, total):\n",
    "        data_num = data_df.shape[0]\n",
    "        label_count = data_df.groupby('labels')['labels'].count()\n",
    "        label = label_count.idxmax()\n",
    "        loss = data_num/float(total) * (1 - (label_count / data_num).pow(2).sum())\n",
    "        return label, loss\n",
    "\n",
    "    def get_mse_loss(self, data_ser):\n",
    "        label = data_ser.mean()\n",
    "        loss = (data_ser - label).pow(2).sum()\n",
    "        return label, loss\n",
    "\n",
    "    def get_split_point(self, data_df):\n",
    "        res = {}\n",
    "        min_loss = None\n",
    "        total = data_df.shape[0]\n",
    "        for col in data_df.columns:\n",
    "            if col == 'labels':\n",
    "                continue\n",
    "            s_arr = list(data_df[col].unique())\n",
    "            for idx in s_arr:\n",
    "                left_data = data_df[data_df[col] <= idx]\n",
    "                right_data = data_df[data_df[col] > idx]\n",
    "                l_label = None\n",
    "                l_loss = None\n",
    "                r_label = None\n",
    "                r_loss = None\n",
    "                loss = 0\n",
    "                if left_data.shape[0] > 0:\n",
    "                    if self.tree_type == 'regress':\n",
    "                        l_label, l_loss = self.get_mse_loss(left_data['labels'])\n",
    "                    else:\n",
    "                        l_label, l_loss = self.get_gini_loss(left_data, total)\n",
    "                    loss = loss + l_loss\n",
    "                if right_data.shape[0] > 0:\n",
    "                    if self.tree_type == 'regress':\n",
    "                        r_label, r_loss = self.get_mse_loss(right_data['labels'])\n",
    "                    else:\n",
    "                        r_label, r_loss = self.get_gini_loss(right_data, total)\n",
    "                    loss = loss + r_loss\n",
    "                if min_loss == None or min_loss > loss:\n",
    "                    res['col'] = col\n",
    "                    res['idx'] = idx\n",
    "                    res['l_loss'] = l_loss\n",
    "                    res['l_label'] = l_label\n",
    "                    res['r_loss'] = r_loss\n",
    "                    res['r_label'] = r_label\n",
    "                    res['l_data'] = left_data\n",
    "                    res['r_data'] = right_data\n",
    "                    min_loss = loss\n",
    "        return res\n",
    "\n",
    "    def build_tree(self, data_df, level = 0, parent = None, label = None, loss = None):\n",
    "        if data_df.shape[0] == 0:\n",
    "            return None\n",
    "        if label == None:\n",
    "            if self.tree_type == 'regress':\n",
    "                label, loss = self.get_mse_loss(data_df['labels'])\n",
    "            elif self.tree_type == 'class':\n",
    "                label, loss = self.get_gini_loss(data_df, data_df.shape[0])\n",
    "            else:\n",
    "                print('算法类型不支持')\n",
    "                return None\n",
    "        node={'id' : self.nid, 'level' : level, 'parent' : parent, 'label' : label, 'loss' :loss}\n",
    "        self.nid = self.nid + 1\n",
    "        spt = self.get_split_point(data_df)\n",
    "        node['spt'] = {'col':spt['col'], 'idx':spt['idx']}\n",
    "        left_data = spt['l_data']\n",
    "        if left_data.shape[0] == 0 or spt['l_loss'] < self.eps or left_data.shape == data_df.shape:\n",
    "            label = node['label'] if spt['l_label'] == None else spt['l_label']\n",
    "            loss = node['loss'] if spt['l_loss'] == None else spt['l_loss']\n",
    "            node['left'] = {'id':self.nid, 'level':level+1, 'parent':node, 'label':label, 'loss':loss}\n",
    "            self.nid = self.nid + 1\n",
    "        else:\n",
    "            node['left'] = self.build_tree(left_data, level+1, node, spt['l_label'], spt['l_loss'])\n",
    "        right_data = spt['r_data']\n",
    "        if right_data.shape[0] == 0 or spt['r_loss'] < self.eps or left_data.shape == data_df.shape:\n",
    "            label = node['label'] if spt['r_label'] == None else spt['r_label']\n",
    "            loss = node['loss'] if spt['r_loss'] == None else spt['r_loss']\n",
    "            node['right'] = {'id':self.nid, 'level':level+1, 'parent':node, 'label':label, 'loss':loss}\n",
    "            self.nid = self.nid + 1\n",
    "        else:\n",
    "            node['right'] = self.build_tree(right_data, level+1, node, spt['r_label'], spt['r_loss'])\n",
    "        return node\n",
    "\n",
    "    def predict(self, x_df, node):\n",
    "        if 'spt' in node:\n",
    "            col = node['spt']['col']\n",
    "            if x_df[col] <= node['spt']['idx']:\n",
    "                return self.predict(x_df, node['left'])\n",
    "            else:\n",
    "                return self.predict(x_df, node['right'])\n",
    "        else:\n",
    "            return node['label']\n",
    "\n",
    "    def format_dot(self, dot, node, edge_label = ''):\n",
    "        if not node:\n",
    "            return\n",
    "        if 'spt' in node:\n",
    "            node_label = \"{}-{}-{}-{}\".format(node['level'], node['spt']['col'], round(node['loss'], 2), round(node['label'], 2))\n",
    "        else:\n",
    "            node_label = \"{}-{}-{}\".format(node['level'], round(node['loss'], 2), round(node['label'], 2))\n",
    "        dot.node(str(node['id']), label=node_label)\n",
    "        if len(edge_label) != 0:\n",
    "            dot.edge(str(node['parent']['id']), str(node['id']), label = edge_label)\n",
    "        if 'left' in node:\n",
    "            self.format_dot(dot, node['left'], '<=' + str(node['spt']['idx']))\n",
    "        if 'right' in node:\n",
    "            self.format_dot(dot, node['right'], '>' + str(node['spt']['idx']))\n",
    "\n",
    "    def print_tree(self, root):\n",
    "        dot = Digraph(comment='Cart Tree')\n",
    "        self.format_dot(dot, root)\n",
    "        return dot"
   ]
  },
  {
   "cell_type": "markdown",
   "metadata": {},
   "source": [
    "### 梯度提升回归树 "
   ]
  },
  {
   "cell_type": "code",
   "execution_count": 2,
   "metadata": {},
   "outputs": [],
   "source": [
    "class GradBoostRegTree():\n",
    "    def __init__(self, G_num = 5, eps = 1):\n",
    "        self.G_num = G_num\n",
    "        self.tree = CartTree('regress', eps)\n",
    "\n",
    "    def G(self, x, y):\n",
    "        df = x\n",
    "        df['labels'] = y\n",
    "        root = self.tree.build_tree(df)\n",
    "        del df['labels']\n",
    "        return root\n",
    "\n",
    "    def G_pre(self, root, x_df):\n",
    "        y_pre = x_df.apply(self.tree.predict, axis=1, args=(root,))\n",
    "        return y_pre.values\n",
    "\n",
    "    def fit(self, train_x, train_y):\n",
    "        self.G_lst = []\n",
    "        labels = train_y.copy()\n",
    "        for i in range(self.G_num):\n",
    "            root = self.G(train_x, labels)\n",
    "            pre = self.G_pre(root, train_x)\n",
    "            #使用均方差损失函数\n",
    "            r = labels-pre\n",
    "            labels = r\n",
    "            self.G_lst.append(root)\n",
    "            print('%dth model error is %.2f' % (i, np.average(r**2)))\n",
    "    \n",
    "    def predict(self, test_x):\n",
    "        pre = np.zeros(test_x.shape[0])\n",
    "        for root in self.G_lst:\n",
    "            pre = pre + self.G_pre(root, test_x)\n",
    "        return pre\n",
    "\n",
    "    def cal_mse(self, gt_y, pre_y):\n",
    "        return np.average(np.power(gt_y - pre_y, 2))"
   ]
  },
  {
   "cell_type": "markdown",
   "metadata": {},
   "source": [
    "## 模型训练与预测"
   ]
  },
  {
   "cell_type": "code",
   "execution_count": 3,
   "metadata": {
    "tags": []
   },
   "outputs": [
    {
     "output_type": "stream",
     "name": "stdout",
     "text": [
      "0th model error is 2.46\n",
      "1th model error is 2.25\n",
      "2th model error is 2.18\n",
      "3th model error is 2.13\n",
      "4th model error is 2.10\n",
      "predict mse: 31.95\n"
     ]
    },
    {
     "output_type": "display_data",
     "data": {
      "text/plain": "Canvas(toolbar=Toolbar(toolitems=[('Home', 'Reset original view', 'home', 'home'), ('Back', 'Back to previous …",
      "application/vnd.jupyter.widget-view+json": {
       "version_major": 2,
       "version_minor": 0,
       "model_id": "1a6ce23b8e9f4fbc97d9b9dd9594d034"
      }
     },
     "metadata": {}
    },
    {
     "output_type": "execute_result",
     "data": {
      "text/plain": [
       "<matplotlib.axes._subplots.AxesSubplot at 0x12301b7d0>"
      ]
     },
     "metadata": {},
     "execution_count": 3
    }
   ],
   "source": [
    "%matplotlib widget\n",
    "from sklearn import datasets\n",
    "import matplotlib.pyplot as plt\n",
    "data = datasets.load_boston()\n",
    "x_data = data.data\n",
    "y_data = data.target\n",
    "x_names = data.feature_names\n",
    "data_np = np.column_stack((x_data, y_data))\n",
    "np.random.shuffle(data_np)\n",
    "data_cols = list(x_names.copy())\n",
    "data_cols.append('labels')\n",
    "df = pd.DataFrame(data_np, columns=data_cols)\n",
    "for col in x_names:\n",
    "    if col != 'CHAS':\n",
    "        df[col] = pd.cut(df[col], 5, labels=range(5))\n",
    "    df[col].astype('category')\n",
    "train_num = 400\n",
    "train_x = df.iloc[:train_num, :len(x_names)]\n",
    "train_y = df.iloc[:train_num, len(x_names):].values.reshape([train_num,])\n",
    "test_x = df.iloc[train_num:, :len(x_names)]\n",
    "test_y = df.iloc[train_num:, len(x_names):].values.reshape([df.shape[0] - train_num,])\n",
    "\n",
    "reg_model=GradBoostRegTree(5, 10)\n",
    "reg_model.fit(train_x, train_y)\n",
    "pre_y = reg_model.predict(test_x)\n",
    "\n",
    "print('predict mse: %.2f' % reg_model.cal_mse(test_y, pre_y))\n",
    "show_df = pd.DataFrame(pre_y, columns=['pre_y'])\n",
    "show_df['test_y'] = test_y\n",
    "show_df.plot()"
   ]
  },
  {
   "cell_type": "code",
   "execution_count": null,
   "metadata": {},
   "outputs": [],
   "source": []
  }
 ]
}