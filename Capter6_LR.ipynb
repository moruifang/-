{
 "metadata": {
  "language_info": {
   "codemirror_mode": {
    "name": "ipython",
    "version": 3
   },
   "file_extension": ".py",
   "mimetype": "text/x-python",
   "name": "python",
   "nbconvert_exporter": "python",
   "pygments_lexer": "ipython3",
   "version": "3.7.7-final"
  },
  "orig_nbformat": 2,
  "kernelspec": {
   "name": "python3",
   "display_name": "Python 3.7.7 64-bit ('data_analy': conda)",
   "metadata": {
    "interpreter": {
     "hash": "3ddee81a1b27f05db421b9f5cb6fc46ca6f9935fcf31d769e2300ba44e2b6654"
    }
   }
  }
 },
 "nbformat": 4,
 "nbformat_minor": 2,
 "cells": [
  {
   "cell_type": "markdown",
   "metadata": {},
   "source": [
    "# Capter6 逻辑斯蒂回归\n",
    "## 逻辑回归模型（LR）"
   ]
  },
  {
   "cell_type": "code",
   "execution_count": 1,
   "metadata": {},
   "outputs": [],
   "source": [
    "import numpy as np\n",
    "class LogRegress():\n",
    "    def fit(self, train_x, train_y, epoch = 30, lr = 0.05):\n",
    "        self.w = np.zeros(train_x.shape[1])\n",
    "        self.b = 0\n",
    "        self.loss_lst = []\n",
    "        for i in range(epoch):\n",
    "            h = 1 / (1 + np.exp(-1 * (np.dot(train_x, self.w.T) + self.b)))\n",
    "            L = -1 * np.average(train_y * np.log(h) + (1 - train_y) * np.log(1 - h))\n",
    "            self.loss_lst.append(L)\n",
    "            dL_dw = np.average(train_x.T * (h - train_y), axis=1)\n",
    "            dL_db = np.average(h - train_y)\n",
    "            self.w = self.w - lr * dL_dw\n",
    "            self.b = self.b - lr * dL_db\n",
    "    \n",
    "    def predict(self, data_x):\n",
    "        pre = 1 / (1 + np.exp(-1 * (np.dot(data_x, self.w.T) + self.b)))\n",
    "        pre = np.where(pre<=0.5, 0, 1)\n",
    "        return pre.astype(np.int)\n",
    "\n",
    "    def get_accuracy(self, gt_y, pre_y):\n",
    "        diff = np.subtract(gt_y, pre_y)\n",
    "        err = diff[diff!=0].shape[0]\n",
    "        return 1 - err/gt_y.shape[0]"
   ]
  },
  {
   "cell_type": "markdown",
   "metadata": {},
   "source": [
    "## 模型测试\n",
    "### 准备测试样本"
   ]
  },
  {
   "cell_type": "code",
   "execution_count": 2,
   "metadata": {},
   "outputs": [],
   "source": [
    "%matplotlib widget\n",
    "from sklearn import datasets\n",
    "import matplotlib.pyplot as plt\n",
    "\n",
    "sample_num = 200\n",
    "train_num = sample_num//2\n",
    "inputs, labels = datasets.make_classification(n_samples=sample_num, n_features=2, n_classes=2, n_redundant=0)\n",
    "train_x = inputs[:train_num]\n",
    "train_y = labels[:train_num]\n",
    "test_x = inputs[train_num:]\n",
    "test_y = labels[train_num:]"
   ]
  },
  {
   "cell_type": "markdown",
   "metadata": {},
   "source": [
    "### 模型训练与预测"
   ]
  },
  {
   "cell_type": "code",
   "execution_count": 3,
   "metadata": {
    "tags": []
   },
   "outputs": [
    {
     "output_type": "stream",
     "name": "stdout",
     "text": [
      "accuracy: 0.94\n"
     ]
    },
    {
     "output_type": "display_data",
     "data": {
      "text/plain": "Canvas(toolbar=Toolbar(toolitems=[('Home', 'Reset original view', 'home', 'home'), ('Back', 'Back to previous …",
      "application/vnd.jupyter.widget-view+json": {
       "version_major": 2,
       "version_minor": 0,
       "model_id": "f478dcbb04fd44e3ad7df39e5962147c"
      }
     },
     "metadata": {}
    }
   ],
   "source": [
    "model = LogRegress()\n",
    "model.fit(train_x, train_y)\n",
    "pre_y = model.predict(test_x)\n",
    "print('accuracy: %.2f' % model.get_accuracy(test_y, pre_y))\n",
    "\n",
    "fig, axs = plt.subplots(1, 3)\n",
    "axs[0].plot(model.loss_lst)\n",
    "axs[0].set_title('loss')\n",
    "def plot_decision_boundary(pred_func, fea, label, ax, title):\n",
    "    fea1_min, fea1_max = fea[:, 0].min() - 0.5, fea[:, 0].max() + 0.5\n",
    "    fea2_min, fea2_max = fea[:, 1].min() - 0.5, fea[:, 1].max() + 0.5\n",
    "    s = 0.01\n",
    "    g_fea1, g_fea2 = np.meshgrid(np.arange(fea1_min, fea1_max, s), np.arange(fea2_min, fea2_max, s))\n",
    "    pre_y = pred_func(np.c_[g_fea1.ravel(), g_fea2.ravel()])\n",
    "    pre_y = pre_y.reshape(g_fea1.shape)\n",
    "    ax.contourf(g_fea1, g_fea2, pre_y, cmap=plt.cm.Spectral)\n",
    "    ax.scatter(fea[:, 0], fea[:, 1], c = label, s = 20)\n",
    "    ax.set_title(title)\n",
    "plot_decision_boundary(model.predict, train_x, train_y, axs[1], 'train')\n",
    "plot_decision_boundary(model.predict, test_x, test_y, axs[2], 'predict')"
   ]
  },
  {
   "cell_type": "code",
   "execution_count": null,
   "metadata": {},
   "outputs": [],
   "source": []
  }
 ]
}