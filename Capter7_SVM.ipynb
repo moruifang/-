{
 "metadata": {
  "language_info": {
   "codemirror_mode": {
    "name": "ipython",
    "version": 3
   },
   "file_extension": ".py",
   "mimetype": "text/x-python",
   "name": "python",
   "nbconvert_exporter": "python",
   "pygments_lexer": "ipython3",
   "version": "3.7.7-final"
  },
  "orig_nbformat": 2,
  "kernelspec": {
   "name": "python3",
   "display_name": "Python 3.7.7 64-bit ('data_analy': conda)",
   "metadata": {
    "interpreter": {
     "hash": "3ddee81a1b27f05db421b9f5cb6fc46ca6f9935fcf31d769e2300ba44e2b6654"
    }
   }
  }
 },
 "nbformat": 4,
 "nbformat_minor": 2,
 "cells": [
  {
   "cell_type": "markdown",
   "metadata": {},
   "source": [
    "# Capter7 支持向量机\n",
    "## SVM模型\n",
    "### 另外参考[论文](https://www.microsoft.com/en-us/research/wp-content/uploads/2016/02/tr-98-14.pdf)"
   ]
  },
  {
   "cell_type": "code",
   "execution_count": 1,
   "metadata": {},
   "outputs": [],
   "source": [
    "import numpy as np\n",
    "import random\n",
    "import matplotlib.pyplot as plt\n",
    "class SVM():\n",
    "    def __init__(self, C = 1, tol = 0.001, **kernel):\n",
    "        self.C = C\n",
    "        self.tol = tol\n",
    "        self.kernel = kernel\n",
    "    \n",
    "    def cal_kernel(self, x1, x2):\n",
    "        if self.kernel['type'] == 'linear':\n",
    "            return np.dot(x1, x2.T)\n",
    "        elif self.kernel['type'] == 'rbf':\n",
    "            kernel_val = np.zeros((x1.shape[0], x2.shape[0]))\n",
    "            for i in range(x1.shape[0]):\n",
    "                for j in range(x2.shape[0]):\n",
    "                    gamma = self.kernel.get('gamma', 0.1)\n",
    "                    kernel_val[i][j] = np.exp(-1 * np.sum(np.power((x1[i] - x2[j]), 2)) / (gamma ** 2))\n",
    "            return kernel_val\n",
    "        else:\n",
    "            print(\"kernel type can't be recognized\")\n",
    "            return []\n",
    "\n",
    "    def cal_err(self, idx):\n",
    "        return np.dot((self.alpha * self.train_y).T, self.kernel_val[:, idx]) + self.b - self.train_y[idx]\n",
    "\n",
    "    def find_idx1(self, idx2):\n",
    "        check_idx = np.nonzero(self.alpha[(self.alpha > 0) & (self.alpha < self.C)])[0]\n",
    "        max_diff = -1\n",
    "        idx1 = 0 \n",
    "        for idx in check_idx:\n",
    "            if idx == idx2:\n",
    "                continue\n",
    "            e_diff = np.abs(self.e_cache[idx] - self.e_cache[idx2])\n",
    "            if e_diff > max_diff:\n",
    "                idx1 = idx\n",
    "                max_diff = e_diff\n",
    "        return idx1\n",
    "\n",
    "    def take_step(self, idx1, idx2):\n",
    "        if idx1 == idx2:\n",
    "            return 0\n",
    "        a1 = self.alpha[idx1]\n",
    "        y1 = self.train_y[idx1]\n",
    "        e1 = self.e_cache[idx1]\n",
    "        a2 = self.alpha[idx2]\n",
    "        y2 = self.train_y[idx2]\n",
    "        e2 = self.e_cache[idx2]\n",
    "        s = y1 * y2\n",
    "        if s < 0:\n",
    "            L = max(0, a2 - a1)\n",
    "            H = min(self.C, self.C + a2 - a1)\n",
    "        else:\n",
    "            L = max(0, a1 + a2 - self.C)\n",
    "            H = min(self.C, a1 + a2)\n",
    "        if L == H:\n",
    "            return 0\n",
    "        eta = self.kernel_val[idx1][idx1] + self.kernel_val[idx2][idx2] - 2.0 * self.kernel_val[idx1][idx2]\n",
    "        if eta > 0:\n",
    "            self.alpha[idx2] = a2 + y2 * (e1 - e2) / eta\n",
    "            if self.alpha[idx2] < L:\n",
    "                self.alpha[idx2] = L\n",
    "            elif self.alpha[idx2] > H:\n",
    "                self.alpha[idx2] = H\n",
    "        else:\n",
    "            f1 = y1(e1 + self.b) - a1 * self.kernel_val[idx1][idx1] - s * a2 * self.kernel_val[idx1][idx2]\n",
    "            f2 = y2(e2 + self.b) - s * a1 * self.kernel_val[idx1][idx2] - a2 * self.kernel_val[idx2][idx2]\n",
    "            L1 = a1 + s * (a2 - L)\n",
    "            H1 = a1 + s * (a2 - H)\n",
    "            Lobj = L1*f1+L*f2+1/2*L1**2*self.kernel_val[idx1][idx1]+1/2*L**2*self.kernel_val[idx2][idx2]+s*L*L1*self.kernel_val[idx1][idx2]\n",
    "            Hobj = H1*f1+H*f2+1/2*H1**2*self.kernel_val[idx1][idx1]+1/2*H**2*self.kernel_val[idx2][idx2]+s*H*H1*self.kernel_val[idx1][idx2]\n",
    "            if Lobj < Hobj - self.tol:\n",
    "                self.alpha[idx2] = L\n",
    "            elif Lobj > Hobj + self.tol:\n",
    "                self.alpha[idx2] = H\n",
    "            else:\n",
    "                self.alpha[idx2] = a2\n",
    "        if np.abs(self.alpha[idx2] - a2) < self.tol * (self.alpha[idx2] + a2 + self.tol):\n",
    "            return 0\n",
    "        self.alpha[idx1] = a1 + s * (a2 - self.alpha[idx2])\n",
    "        b1 = self.b - e1 - y1*(self.alpha[idx1] - a1)*self.kernel_val[idx1][idx1] \\\n",
    "             - y2*(self.alpha[idx2]-a2)*self.kernel_val[idx1][idx2]\n",
    "        b2 = self.b - e2 - y1*(self.alpha[idx1] - a1)*self.kernel_val[idx1][idx2] \\\n",
    "             - y2*(self.alpha[idx2]-a2)*self.kernel_val[idx2][idx2]\n",
    "        if (self.alpha[idx1] != 0 and self.alpha[idx1] != self.C) and (self.alpha[idx2] == 0 or self.alpha[idx2] == self.C):\n",
    "            self.b = b1\n",
    "        elif (self.alpha[idx2] != 0 and self.alpha[idx2] != self.C) and (self.alpha[idx1] == 0 or self.alpha[idx1] == self.C):\n",
    "            self.b = b2\n",
    "        else:\n",
    "            self.b = (b1+b2)/2\n",
    "        self.e_cache[idx1] = self.cal_err(idx1)\n",
    "        self.e_cache[idx2] = self.cal_err(idx2)\n",
    "        return 1\n",
    "\n",
    "    def examine(self, idx2):\n",
    "        e2 = self.cal_err(idx2)\n",
    "        self.e_cache[idx2] = e2\n",
    "        r2 = self.train_y[idx2] * e2\n",
    "        #check violates the KKT conditions\n",
    "        if ((r2 < -1 * self.tol) and (self.alpha[idx2] < self.C)) or ((r2 > self.tol) and (self.alpha[idx2] > 0)):\n",
    "            support_idx = np.nonzero((self.alpha != 0) & (self.alpha != self.C))[0]\n",
    "            if len(support_idx) > 1:\n",
    "                #find max(|e2 - e1|) index\n",
    "                idx1 = self.find_idx1(idx2)\n",
    "                if self.take_step(idx1, idx2):\n",
    "                    return 1\n",
    "            if len(support_idx > 1):\n",
    "                start = random.randint(0, len(support_idx) - 1)\n",
    "                for i in range(len(support_idx)):\n",
    "                    idx = i + start if i + start <= len(support_idx) - 1 else i + start - len(support_idx)\n",
    "                    if self.take_step(support_idx[idx], idx2):\n",
    "                        return 1\n",
    "            start = random.randint(0, self.n - 1)\n",
    "            for i in range(self.n):\n",
    "                idx1 = i + start if i + start <= self.n - 1 else i + start - self.n\n",
    "                if self.take_step(idx1, idx2):\n",
    "                    return 1\n",
    "        return 0\n",
    "\n",
    "    def smo(self):\n",
    "        num_changed = 0\n",
    "        examine_all = 1\n",
    "        loop_num = 0\n",
    "        while (num_changed > 0 or examine_all):\n",
    "            loop_num  = loop_num + 1\n",
    "            if self.epoch and loop_num > self.epoch:\n",
    "                break\n",
    "            num_changed = 0\n",
    "            if examine_all:\n",
    "                for i in range(self.n):\n",
    "                    num_changed = num_changed + self.examine(i)\n",
    "            else:\n",
    "                for i in range(self.n):\n",
    "                    #repeated passes over the non-bound examples \n",
    "                    #until all of the non-bound examples obey the KKT conditions within ε\n",
    "                    if self.alpha[i] != 0 and self.alpha[i] != self.C:\n",
    "                        num_changed = num_changed + self.examine(i)\n",
    "            if examine_all == 1:\n",
    "                examine_all = 0\n",
    "            elif num_changed == 0:\n",
    "                examine_all = 1\n",
    "            print('loop num %d: num changed %d, examine_all %d' % (loop_num, num_changed, examine_all))\n",
    "\n",
    "    def fit(self, train_x, train_y, epoch = None):\n",
    "        self.train_x = train_x\n",
    "        self.train_y = train_y\n",
    "        self.n = train_x.shape[0]\n",
    "        self.kernel_val = self.cal_kernel(train_x, train_x)\n",
    "        if len(self.kernel_val) == 0:\n",
    "            return False\n",
    "        self.alpha = np.zeros(self.n)\n",
    "        self.b = 0\n",
    "        self.epoch = epoch\n",
    "        self.e_cache = np.zeros(self.n)\n",
    "        self.smo()\n",
    "        if self.kernel['type'] == 'linear':\n",
    "            self.pre_w = np.dot((self.alpha * train_y).T, train_x)\n",
    "        return True\n",
    "        \n",
    "    def predict(self, test_x):\n",
    "        if self.kernel['type'] == 'linear':\n",
    "            pre_val = np.dot(test_x, self.pre_w.T) + self.b\n",
    "        else:\n",
    "            k_val = self.cal_kernel(train_x, test_x)\n",
    "            pre_val = np.dot((self.alpha * self.train_y).T, k_val) + self.b\n",
    "        return np.where(pre_val>=0, 1, -1)\n",
    "\n",
    "    def get_accuracy(self, gt_y, pre_y):\n",
    "        diff = np.subtract(gt_y, pre_y)\n",
    "        err = diff[diff!=0].shape[0]\n",
    "        return 1 - err/gt_y.shape[0]\n",
    "\n",
    "    def plot_decision_boundary(self, fea, label, ax, title=''):\n",
    "        fea1_min, fea1_max = fea[:, 0].min() - 0.5, fea[:, 0].max() + 0.5\n",
    "        fea2_min, fea2_max = fea[:, 1].min() - 0.5, fea[:, 1].max() + 0.5\n",
    "        s = 0.05\n",
    "        g_fea1, g_fea2 = np.meshgrid(np.arange(fea1_min, fea1_max, s), np.arange(fea2_min, fea2_max, s))\n",
    "        pre_y = self.predict(np.c_[g_fea1.ravel(), g_fea2.ravel()])\n",
    "        pre_y = pre_y.reshape(g_fea1.shape)\n",
    "        ax.contourf(g_fea1, g_fea2, pre_y, cmap=plt.cm.Spectral)\n",
    "        ax.scatter(fea[:, 0], fea[:, 1], c = label, s = 20)\n",
    "        if len(title) > 0:\n",
    "            ax.set_title(title)"
   ]
  },
  {
   "cell_type": "markdown",
   "metadata": {},
   "source": [
    "## 模型训练与测试\n",
    "### 线性核"
   ]
  },
  {
   "cell_type": "code",
   "execution_count": 2,
   "metadata": {
    "tags": []
   },
   "outputs": [
    {
     "output_type": "stream",
     "name": "stdout",
     "text": [
      "loop num 1: num changed 37, examine_all 0\nloop num 2: num changed 16, examine_all 0\nloop num 3: num changed 6, examine_all 0\nloop num 4: num changed 4, examine_all 0\nloop num 5: num changed 3, examine_all 0\nloop num 6: num changed 2, examine_all 0\nloop num 7: num changed 4, examine_all 0\nloop num 8: num changed 1, examine_all 0\nloop num 9: num changed 0, examine_all 1\nloop num 10: num changed 24, examine_all 0\nloop num 11: num changed 12, examine_all 0\nloop num 12: num changed 7, examine_all 0\nloop num 13: num changed 5, examine_all 0\nloop num 14: num changed 3, examine_all 0\nloop num 15: num changed 2, examine_all 0\nloop num 16: num changed 2, examine_all 0\nloop num 17: num changed 2, examine_all 0\nloop num 18: num changed 2, examine_all 0\nloop num 19: num changed 3, examine_all 0\nloop num 20: num changed 3, examine_all 0\naccuracy: 0.94\n"
     ]
    },
    {
     "output_type": "display_data",
     "data": {
      "text/plain": "Canvas(toolbar=Toolbar(toolitems=[('Home', 'Reset original view', 'home', 'home'), ('Back', 'Back to previous …",
      "application/vnd.jupyter.widget-view+json": {
       "version_major": 2,
       "version_minor": 0,
       "model_id": "b00fe9e7276146dd9fe9c8d35b748513"
      }
     },
     "metadata": {}
    },
    {
     "output_type": "execute_result",
     "data": {
      "text/plain": [
       "<matplotlib.collections.PathCollection at 0x121832bd0>"
      ]
     },
     "metadata": {},
     "execution_count": 2
    }
   ],
   "source": [
    "%matplotlib widget\n",
    "from sklearn import datasets\n",
    "sample_num = 200\n",
    "inputs, labels = datasets.make_classification(n_samples=sample_num, n_features=2, n_classes=2, n_redundant=0)\n",
    "labels = np.where(labels == 0, -1, labels)\n",
    "train_num = sample_num//2\n",
    "train_x = inputs[:train_num]\n",
    "train_y = labels[:train_num]\n",
    "test_x = inputs[train_num:]\n",
    "test_y = labels[train_num:]\n",
    "model = SVM(type = 'linear')\n",
    "model.fit(train_x, train_y, 20)\n",
    "pre_y = model.predict(test_x)\n",
    "print('accuracy: %.2f' % model.get_accuracy(test_y, pre_y))\n",
    "#支持向量样本使用不同颜色标记\n",
    "yp = train_y.copy()\n",
    "yp[(model.alpha>0)&(yp==-1)] = 0\n",
    "yp[(model.alpha>0)&(yp==1)] = 2\n",
    "model.plot_decision_boundary(train_x, train_y, plt)\n",
    "plt.scatter(x = train_x[:, 0], y = train_x[:,1], c = yp)"
   ]
  },
  {
   "cell_type": "markdown",
   "metadata": {},
   "source": [
    "### 径向基核"
   ]
  },
  {
   "cell_type": "code",
   "execution_count": 3,
   "metadata": {
    "tags": []
   },
   "outputs": [
    {
     "output_type": "display_data",
     "data": {
      "text/plain": "Canvas(toolbar=Toolbar(toolitems=[('Home', 'Reset original view', 'home', 'home'), ('Back', 'Back to previous …",
      "application/vnd.jupyter.widget-view+json": {
       "version_major": 2,
       "version_minor": 0,
       "model_id": "d8bc1b07719b47efbf4d69f50c2386ca"
      }
     },
     "metadata": {}
    },
    {
     "output_type": "stream",
     "name": "stdout",
     "text": [
      "loop num 1: num changed 86, examine_all 0\nloop num 2: num changed 35, examine_all 0\nloop num 3: num changed 26, examine_all 0\nloop num 4: num changed 19, examine_all 0\nloop num 5: num changed 17, examine_all 0\nloop num 6: num changed 17, examine_all 0\nloop num 7: num changed 17, examine_all 0\nloop num 8: num changed 13, examine_all 0\nloop num 9: num changed 12, examine_all 0\nloop num 10: num changed 12, examine_all 0\nloop num 11: num changed 12, examine_all 0\nloop num 12: num changed 12, examine_all 0\nloop num 13: num changed 12, examine_all 0\nloop num 14: num changed 12, examine_all 0\nloop num 15: num changed 12, examine_all 0\nloop num 16: num changed 12, examine_all 0\nloop num 17: num changed 12, examine_all 0\nloop num 18: num changed 11, examine_all 0\nloop num 19: num changed 10, examine_all 0\nloop num 20: num changed 11, examine_all 0\naccuracy: 0.80\n"
     ]
    },
    {
     "output_type": "execute_result",
     "data": {
      "text/plain": [
       "<matplotlib.collections.PathCollection at 0x122ff3d10>"
      ]
     },
     "metadata": {},
     "execution_count": 3
    }
   ],
   "source": [
    "sample_num=200\n",
    "inputs, labels = datasets.make_circles(n_samples=sample_num, noise=0.05)\n",
    "labels = np.where(labels == 0, -1, labels)\n",
    "train_num = sample_num//2\n",
    "train_x = inputs[:train_num]\n",
    "train_y = labels[:train_num]\n",
    "test_x = inputs[train_num:]\n",
    "test_y = labels[train_num:]\n",
    "fig, axs = plt.subplots(1, 2)\n",
    "axs[0].scatter(x = inputs[:, 0], y = inputs[:, 1],c=labels)\n",
    "model = SVM(type = 'rbf')\n",
    "model.fit(train_x, train_y, 20)\n",
    "pre_y = model.predict(test_x)\n",
    "print('accuracy: %.2f' % model.get_accuracy(test_y, pre_y))\n",
    "yp = train_y.copy()\n",
    "yp[(model.alpha>0)&(yp==-1)] = 0\n",
    "yp[(model.alpha>0)&(yp==1)] = 2\n",
    "model.plot_decision_boundary(train_x, train_y, axs[1])\n",
    "plt.scatter(x = train_x[:, 0], y = train_x[:,1], c = yp)"
   ]
  },
  {
   "cell_type": "code",
   "execution_count": null,
   "metadata": {},
   "outputs": [],
   "source": []
  }
 ]
}